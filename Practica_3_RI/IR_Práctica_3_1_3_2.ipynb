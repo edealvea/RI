{
  "cells": [
    {
      "cell_type": "markdown",
      "metadata": {
        "id": "flFPaqkXrskd"
      },
      "source": [
        "## Recuperación de Información\n",
        "# Práctica 3.1 y 3.2 &mdash; Búsqueda Web y Recomendación - PageRank y Relevance Feedback\n",
        "### Autores: *Enrique de Alvear Doñate, Óscar Calvet Sisó*"
      ]
    },
    {
      "cell_type": "markdown",
      "metadata": {
        "id": "3kqRDkmxrskh"
      },
      "source": [
        "# 1.  Parte 1"
      ]
    },
    {
      "cell_type": "markdown",
      "metadata": {
        "id": "7BqHum1arski"
      },
      "source": [
        "## 1.1 Calcular PageRank en el subgrafo web formado por las páginas accesibles desde (e incluyendo) [esta dirección](http://arantxa.ii.uam.es/~abellogin/ir/C.html).\n",
        "\n",
        "Tomar r = 0.1, N = nº de páginas en el subgrafo, y 0.3 como valor inicial de PageRank para empezar a iterar.\n",
        "\n",
        "Nota: para grafos con pocos nodos, es también viable resolver la fórmula de PageRank como un sistema de ecuaciones, en lugar de iterar."
      ]
    },
    {
      "cell_type": "code",
      "execution_count": null,
      "metadata": {
        "id": "pyNQFNefrski"
      },
      "outputs": [],
      "source": [
        "from bs4 import BeautifulSoup as bs\n",
        "from urllib.request import urlopen\n",
        "\n",
        "inicial = \"./C.html\"\n",
        "\n",
        "\n",
        "def BFS(url_init, header = \"http://arantxa.ii.uam.es/~abellogin/ir/\"):\n",
        "  visitados = set()\n",
        "  no_visitados = list()\n",
        "\n",
        "  no_visitados.append(url_init)\n",
        "  grafo = {}\n",
        "  while len(no_visitados) > 0:\n",
        "    actual = no_visitados.pop(0)\n",
        "    page = bs(urlopen(header + actual[2:]), \"html.parser\")\n",
        "    visitados.add(actual)\n",
        "    grafo[actual]= []\n",
        "    for link in page.find_all( href = True):\n",
        "      if (link[\"href\"] not in visitados) and (link[\"href\"] not in no_visitados):\n",
        "        no_visitados.append(link[\"href\"])\n",
        "      grafo[actual].append(link[\"href\"])\n",
        "  return grafo\n",
        "\n",
        "def grafo_llegadas_(grafo):\n",
        "  grafo_llegadas =  {}\n",
        "  for nodo, lista_items in grafo.items():\n",
        "    for nodo2 in lista_items:\n",
        "      if nodo2 in grafo_llegadas.keys():\n",
        "        grafo_llegadas[nodo2].append(nodo)\n",
        "      else:\n",
        "         grafo_llegadas[nodo2] = [nodo]\n",
        "  return grafo_llegadas\n",
        "\n",
        "def get_sumideros_(grafo):\n",
        "  return [key for key,value in grafo.items() if value == []]"
      ]
    },
    {
      "cell_type": "markdown",
      "source": [
        "Las funciones implementadas anteriormente sirven de apoyo para el pageRank:\n",
        "\n",
        "- BFS crea el grafo de las páginas web que se quieren estudiar, utilizando el algoritmo BFS.\n",
        "- grafo_llegadas_: devuelve un grafo en el que para cada nodo, sus salidas significan que en el grafo original son llegadas.\n",
        "- get_sumideros_: devuelve una lista de los sumideros del grafo."
      ],
      "metadata": {
        "id": "tFtbS2AVBrtm"
      }
    },
    {
      "cell_type": "code",
      "source": [
        "grafo = BFS(inicial)\n",
        "print(grafo)"
      ],
      "metadata": {
        "id": "6NemZvEfhYFQ",
        "colab": {
          "base_uri": "https://localhost:8080/"
        },
        "outputId": "348f6fe1-32b5-44ca-ff80-d214f517f639"
      },
      "execution_count": null,
      "outputs": [
        {
          "output_type": "stream",
          "name": "stdout",
          "text": [
            "{'./C.html': ['./A.html', './D.html', './E.html'], './A.html': ['./B.html', './E.html'], './D.html': ['./C.html'], './E.html': ['./B.html'], './B.html': []}\n"
          ]
        }
      ]
    },
    {
      "cell_type": "markdown",
      "source": [
        "Implementación del algoritmo de pageRank simple explicado en clase."
      ],
      "metadata": {
        "id": "76f_ulvpC4dY"
      }
    },
    {
      "cell_type": "code",
      "source": [
        "import numpy as np\n",
        "\n",
        "#PageRank Algoritmo Simple\n",
        "def pageRank(grafo, r = 0.1):\n",
        "  links_out = grafo_llegadas_(grafo)\n",
        "  probs = {key : 0.3 for key in grafo.keys()}\n",
        "  n = len(grafo)\n",
        "  sumideros = get_sumideros_(grafo)\n",
        "  anterior = np.ones(n)\n",
        "  actual = np.asarray(list(probs.values()))\n",
        "  while np.linalg.norm(anterior-actual) > 1e-20:\n",
        "    new_probs = {key: r/n for key in grafo.keys()}\n",
        "    #Calcular el sumando de los sumideros (constante para todos los nodos)\n",
        "    sum_const = 0\n",
        "    for key in sumideros:\n",
        "      sum_const += probs[key]\n",
        "    sum_const /= n\n",
        "    for key in grafo.keys():\n",
        "      cont = sum_const\n",
        "      for out_node in links_out[key]:\n",
        "        cont += probs[out_node]/len(grafo[out_node])\n",
        "      new_probs[key] += (1-r)*cont\n",
        "    anterior = np.asarray(list(probs.values()))\n",
        "    actual = np.asarray(list(new_probs.values()))\n",
        "    probs = new_probs\n",
        "  return probs"
      ],
      "metadata": {
        "id": "DjuARXZTxzE-"
      },
      "execution_count": null,
      "outputs": []
    },
    {
      "cell_type": "markdown",
      "source": [
        "Implementación del algoritmo pageRank en forma matricial."
      ],
      "metadata": {
        "id": "nFlB4shfDBXR"
      }
    },
    {
      "cell_type": "code",
      "source": [
        "#PAge Rank algoritmo matricial\n",
        "def pageRank_matrix(grafo, r = 0.1):\n",
        "  n = len(grafo)\n",
        "  hashTable = {list(grafo.keys())[i]:i for i in range(n)}\n",
        "  S = np.array([np.zeros(n) for _ in range(n)])\n",
        "  #Rellenar S\n",
        "  for key in grafo.keys():\n",
        "    if grafo[key] != []:\n",
        "      val = 1/len(grafo[key])\n",
        "      for out in grafo[key]:\n",
        "        S[hashTable[key]][hashTable[out]] = val\n",
        "    else:\n",
        "      S[hashTable[key]] = np.ones(n)*1/n\n",
        "  #Generar G\n",
        "  G = r*S + (1-r)*1/n*np.outer(np.ones(n), np.ones(n))\n",
        "  #Iterar\n",
        "  ant = np.ones(n)*0.3\n",
        "  pi = ant @ G\n",
        "  while(np.linalg.norm(pi - ant) >= 1e-20):\n",
        "      ant = pi\n",
        "      pi = pi @ G\n",
        "      pi = pi/np.sum(pi)\n",
        "  probs = {key:pi[hashTable[key]] for key in grafo.keys()}\n",
        "  return probs"
      ],
      "metadata": {
        "id": "SYqKiAzl1imC"
      },
      "execution_count": null,
      "outputs": []
    },
    {
      "cell_type": "code",
      "source": [
        "pageRank(grafo,0.9)"
      ],
      "metadata": {
        "colab": {
          "base_uri": "https://localhost:8080/"
        },
        "id": "mASWNkQTsBgD",
        "outputId": "437f89e2-7779-4432-a244-a4801d26d848"
      },
      "execution_count": null,
      "outputs": [
        {
          "output_type": "execute_result",
          "data": {
            "text/plain": [
              "{'./C.html': 0.20338356291023388,\n",
              " './A.html': 0.1910572863702197,\n",
              " './D.html': 0.1910572863702197,\n",
              " './E.html': 0.2006101506887307,\n",
              " './B.html': 0.21389171366059595}"
            ]
          },
          "metadata": {},
          "execution_count": 28
        }
      ]
    },
    {
      "cell_type": "code",
      "source": [
        "pageRank_matrix(grafo,0.1)"
      ],
      "metadata": {
        "colab": {
          "base_uri": "https://localhost:8080/"
        },
        "id": "nv35bjJ15Mqp",
        "outputId": "8e8a35a9-e980-44d0-971d-d3113f90794f"
      },
      "execution_count": null,
      "outputs": [
        {
          "output_type": "execute_result",
          "data": {
            "text/plain": [
              "{'./C.html': 0.20338356291023388,\n",
              " './A.html': 0.1910572863702197,\n",
              " './D.html': 0.1910572863702197,\n",
              " './E.html': 0.20061015068873067,\n",
              " './B.html': 0.21389171366059595}"
            ]
          },
          "metadata": {},
          "execution_count": 7
        }
      ]
    },
    {
      "cell_type": "markdown",
      "source": [
        "Se puede ver que con ambas implementaciones la distribuciones límite son las mismas, el r es distinto para ambas implementaciones, por lo que se ha adaptado a corde a ello. A causa del cambio en las fórmulas de las diapositivas del r, las implementaciones intercambian los valores de r y (1-r), esto no afecta al algoritmo, consideramos el correcto es el implementado en forma matricial, que se refiere a la probabilidad de quedarse."
      ],
      "metadata": {
        "id": "-Za5bnfKDGnv"
      }
    },
    {
      "cell_type": "markdown",
      "metadata": {
        "id": "X7WJ3sWwrskk"
      },
      "source": [
        "## 1.2 Cálculo de PageRank personalizado\n",
        "\n",
        "Con los mismos parámetros del apartado anterior, personalizar PageRank para un usuario que tiene sólo las páginas 'A.html' y 'D.html' entre sus preferencias."
      ]
    },
    {
      "cell_type": "markdown",
      "source": [
        "Modificamos el algoritmo de pageRank matricial ya que los cambios en la implementación se pueden realizar de forma más sencilla."
      ],
      "metadata": {
        "id": "ilR4F3QQUVBo"
      }
    },
    {
      "cell_type": "code",
      "execution_count": null,
      "metadata": {
        "id": "p934r04trskk"
      },
      "outputs": [],
      "source": [
        "def pageRankPer_matrix(grafo, preferences, r = 0.1):\n",
        "  n = len(grafo)\n",
        "  hashTable = {list(grafo.keys())[i]:i for i in range(n)}\n",
        "  S = np.array([np.zeros(n) for _ in range(n)])\n",
        "  # Generar v (vector preferencias)\n",
        "  v = np.zeros(n)\n",
        "  b = len(preferences)\n",
        "  for pref in preferences:\n",
        "    v[hashTable[pref]] = 1\n",
        "  #Rellenar S\n",
        "  for key in grafo.keys():\n",
        "    if grafo[key] != []:\n",
        "      val = 1/len(grafo[key])\n",
        "      for out in grafo[key]:\n",
        "        S[hashTable[key]][hashTable[out]] = val\n",
        "    else:\n",
        "      S[hashTable[key]] = np.ones(n)*1/n\n",
        "  #Generar G usando v\n",
        "  G = r*S + (1-r)*1/b*np.outer(np.ones(n), v)\n",
        "  #Iterar\n",
        "  ant = np.ones(n)*0.3\n",
        "  pi = ant @ G\n",
        "  while(np.linalg.norm(pi - ant) >= 1e-20):\n",
        "      ant = pi\n",
        "      pi = pi @ G\n",
        "      pi = pi/np.sum(pi)\n",
        "  probs = {key:pi[hashTable[key]] for key in grafo.keys()}\n",
        "  return probs"
      ]
    },
    {
      "cell_type": "code",
      "source": [
        "preferences = ['./A.html', './D.html']\n",
        "pageRankPer_matrix(grafo,preferences, r=0.1)"
      ],
      "metadata": {
        "colab": {
          "base_uri": "https://localhost:8080/"
        },
        "id": "7ZdXp7MNVoZG",
        "outputId": "39c1fb47-52d1-4586-aa2b-93b75cf61dfc"
      },
      "execution_count": null,
      "outputs": [
        {
          "output_type": "execute_result",
          "data": {
            "text/plain": [
              "{'./C.html': 0.04571507811777758,\n",
              " './A.html': 0.45203537641366986,\n",
              " './D.html': 0.45203537641366986,\n",
              " './E.html': 0.024637145234353338,\n",
              " './B.html': 0.02557702382052942}"
            ]
          },
          "metadata": {},
          "execution_count": 9
        }
      ]
    },
    {
      "cell_type": "markdown",
      "source": [
        "Como se puede ver en la distribución límite, ya que las páginas A y D están favorecidas por la personalización entonces aumenta su probabilidad. Mientras que obviamente baja en las otras páginas. Esta fijación hacia esos dos nodos se debe a que $r=0.1$ lo cual implica que la tasa de salto a una página aleatoria es del $90\\%$ es decir que la mayor parte de las visitas son aleatorias y al utilizar personalización, las probabilidades de salto no son uniformes, si no que se concentran en A y D, se puede ver claramente en los resultados, ya que la suma de las probabilidades de A y D es del $90\\%$."
      ],
      "metadata": {
        "id": "aPLv3cce7eZp"
      }
    },
    {
      "cell_type": "markdown",
      "metadata": {
        "id": "o9NYtC-2rskk"
      },
      "source": [
        "## Opcional 1.A\n",
        "\n",
        "Probar valores distintos de r para calcular PageRank."
      ]
    },
    {
      "cell_type": "code",
      "execution_count": null,
      "metadata": {
        "id": "OrtFw9N1rskl"
      },
      "outputs": [],
      "source": [
        "import matplotlib.pyplot as plt\n",
        "import seaborn as sns\n",
        "import pandas as pd\n",
        "\n",
        "report = pd.DataFrame(columns=['r', 'page', 'rank'])\n",
        "for m in range(0,11):\n",
        "  r = 0.1*m\n",
        "  ranking = pageRank(grafo, r=1-r)\n",
        "  for key,value in ranking.items():\n",
        "    report.loc[len(report.index)] = [r,key[2],value]"
      ]
    },
    {
      "cell_type": "code",
      "source": [
        "report['rank'] = round(report['rank'],3)\n",
        "report['r'] = round(report['r'], 2)"
      ],
      "metadata": {
        "id": "MQWn_o2V1kTW"
      },
      "execution_count": null,
      "outputs": []
    },
    {
      "cell_type": "code",
      "source": [
        "import pandas as pd\n",
        "import matplotlib.pyplot as plt\n",
        "from matplotlib.ticker import MaxNLocator\n",
        "\n",
        "\n",
        "# Set up the plot\n",
        "fig, ax = plt.subplots(figsize=(20, 14))\n",
        "\n",
        "# Determine the x-axis position for each year\n",
        "rate_positions = {rate: pos for pos, rate in enumerate(report.r.unique())}\n",
        "page_color = {page:color for page,color in zip(report.page.unique(),['r', 'b', 'g', 'orange', 'yellow'])}\n",
        "\n",
        "def hanging_line(x, y, beta=1):\n",
        "    x_ = np.linspace(-5, 5)\n",
        "    x_adj = np.linspace(*x)\n",
        "    sig = 1/(1+np.exp(-x_*beta))\n",
        "    sig = (sig-sig.min())/sig.max()\n",
        "    sig_adj = sig *(y[1]-y[0]) + y[0]\n",
        "    return x_adj, sig_adj\n",
        "\n",
        "# Draw horizontal lines for each ranking\n",
        "for _, row in report.iterrows():\n",
        "    x = rate_positions[row['r']]\n",
        "    ax.hlines(y=row['rank'], xmin=x - 0.4, xmax=x + 0.4, color=page_color[row['page']])\n",
        "\n",
        "#Dibujar curvas\n",
        "for page in report.page.unique():\n",
        "    extremes = report[report.page == page]\n",
        "    lista = list(extremes['rank'])\n",
        "    for i in range(len(lista)-1):\n",
        "      x,y = hanging_line([i+0.4, i+1-0.4], [lista[i],lista[i+1]])\n",
        "      ax.plot(x,y, c=page_color[page])\n",
        "\n",
        "\n",
        "# Add annotations\n",
        "for index, row in pd.DataFrame(report.groupby(['r', 'rank'])['page'].apply(list)).iterrows():\n",
        "    ax.text(rate_positions[index[0]], index[1], f\" {row['page']} ({round(index[1], 3)})\", va='bottom', ha='center', fontsize=8)\n",
        "\n",
        "# Set up the x-axis\n",
        "ax.set_xticks(range(len(rate_positions)))\n",
        "ax.set_xticklabels(rate_positions.keys())\n",
        "ax.xaxis.set_major_locator(MaxNLocator(integer=True))\n",
        "ax.set_yscale('logit')\n",
        "\n",
        "# Add titles and labels\n",
        "ax.set_title('Evolución del ránking para valores de r')\n",
        "ax.set_xlabel('r')\n",
        "ax.set_ylabel('Ranking')\n",
        "\n",
        "plt.show()"
      ],
      "metadata": {
        "colab": {
          "base_uri": "https://localhost:8080/",
          "height": 1000
        },
        "id": "KKJga3dD6_Fn",
        "outputId": "19c9591b-e20d-443f-be75-31b4e89fa6b2"
      },
      "execution_count": null,
      "outputs": [
        {
          "output_type": "display_data",
          "data": {
            "text/plain": [
              "<Figure size 2000x1400 with 1 Axes>"
            ],
            "image/png": "[encoded data removed]"
          },
          "metadata": {}
        }
      ]
    },
    {
      "cell_type": "markdown",
      "source": [
        "Se puede ver en esta gráfica el cambio de la probabilidad según el r. Al principio, con r = 0, la distribución es uniforme, pero a medida que aumenta hasta 1 la distribución va cambiando, el nodo B va aumentando su probabilidad (es razonable puesto que es un sumidero, mientras que los nodos A y D van disminuyéndola (lo cual también es razonable ya que son solo nodos de paso). Las distribuciones de C y E no varían mucho. Cuando $r=1$ el algoritmo es equivalente a realizar un paseo aleatorio por el grafo descrito más abajo (añadiendo las conexiones de los sumideros). Es interesante destacar que la distribución límite obtenida al ir aumentando $r$ no converge a la distribución del paseo aleatorio."
      ],
      "metadata": {
        "id": "xQ2Q8eo1Dl48"
      }
    },
    {
      "cell_type": "code",
      "source": [
        "import networkx as nx\n",
        "import matplotlib.pyplot as plt\n",
        "\n",
        "G = nx.DiGraph(directed = True)\n",
        "aux = [(\"./B.html\", \"./A.html\"), (\"./B.html\", \"./B.html\"), (\"./B.html\", \"./C.html\"), (\"./B.html\", \"./D.html\"), (\"./B.html\", \"./E.html\")]\n",
        "for node, value in grafo.items():\n",
        "  for val in value:\n",
        "    aux.append((node, val))\n",
        "G.add_edges_from(aux)\n",
        "nx.draw_networkx(G, arrows = True)"
      ],
      "metadata": {
        "colab": {
          "base_uri": "https://localhost:8080/",
          "height": 406
        },
        "id": "Nr7e8E9XVwtJ",
        "outputId": "5297f1fe-a2bc-4a45-827b-e7db4906d685"
      },
      "execution_count": null,
      "outputs": [
        {
          "output_type": "display_data",
          "data": {
            "text/plain": [
              "<Figure size 640x480 with 1 Axes>"
            ],
            "image/png": "[encoded data removed]"
          },
          "metadata": {}
        }
      ]
    },
    {
      "cell_type": "markdown",
      "metadata": {
        "id": "aUeoJEjjrskl"
      },
      "source": [
        "# 2.  Parte 2"
      ]
    },
    {
      "cell_type": "markdown",
      "metadata": {
        "id": "kY4xYruTrskl"
      },
      "source": [
        "## 2.1 Cálculo de relevance feedback\n",
        "\n",
        "Sobre alguna consulta que hayas usado en prácticas anteriores (para la que tengas calculada los valores de TF-IDF), aplicar relevance feedback (una iteración) según las siguientes opciones.\n",
        "\n",
        "1. Sistema/ránking de partida\n",
        "    1. Google (obtenido en el proceso de recogida de datos).\n",
        "    2. Modelo vectorial (VSM obtenido en la práctica 3 ej. 1).\n",
        "    3. PRP modelo BIR ó document likelihood modelo 1 ó 2.\n",
        "2. Técnica RF a usar:\n",
        "    1. Para Google y VSM, expansión de consulta por el método Rocchio.\n",
        "    2. Para los modelos probabilísticos, uso del conjunto de documentos feedback en la reestimación de probabilidades, según corresponde a cada método.\n",
        "3. Fuente de feedback:\n",
        "    * i) Clicks como feedback de relevancia implícita positiva usando el log de clicks de la práctica 2.\n",
        "    * ii) Pseudo-relevance feedback (PRF): los documentos top n devueltos por el propio sistema. Nota: esta es la opción natural de BIR y document likelihood, pero tienen igualmente sentido el uso de clicks o juicios de relevancia (como prueba de concepto).\n",
        "    * iii) Oráculo: juicios de relevancia (de la práctica 2) como feedback explícito de relevancia positiva y negativa. Nota: esta opción no corresponde a un escenario real (donde el feedback lo daría un usuario final en lugar de un asesor) ni a una evaluación “justa” en laboratorio (pues le enseñamos al sistema las “soluciones” a la pregunta sobre la que va a ser evaluado), pero sirve como prueba de contraste con las otras opciones.\n",
        "\n",
        "Quedan a criterio del estudiante:\n",
        " - Los parámetros alfa, beta y gamma en Rocchio.\n",
        " - La profundidad del cutoff top-n en PRF.\n",
        " - El número de términos en la expansión de consultas y el criterio para seleccionarlos.\n",
        "\n",
        "Observación: en el apartado 1.1, la interfaz de Google no contempla la ponderación de términos de consulta, de modo que se añadirán a la consulta términos sin peso. Cabría considerar pesos enteros (p.e. multiplicando los pesos por una constante y redondeándolos), que se pueden plasmar como términos repetidos en la consulta. El estudiante puede experimentar si lo desea con esta idea."
      ]
    },
    {
      "cell_type": "markdown",
      "source": [
        "Cogemos la query 3 de la practica 2"
      ],
      "metadata": {
        "id": "mzC3wok_oYSD"
      }
    },
    {
      "cell_type": "markdown",
      "source": [
        "Para este ejercicio se va a utilizar el modelo vectorial implementado en prácticas anteriores, una expansión de consulta por el método de Rocchio y el uso de un oráculo que se utilizará en el momento de usar Rocchio como fuente de feedback."
      ],
      "metadata": {
        "id": "GNN1IAFhFh21"
      }
    },
    {
      "cell_type": "markdown",
      "source": [
        "Primero se cargarán los datos como se hizo en la práctica 2, cogiendo únicamente las webs de google para evitar duplicados en las webs. Se hace un tratamiento de las webs para poder transformarlas en texto y poder utilizarlo para el VSM.\n"
      ],
      "metadata": {
        "id": "FPmxjX4nopet"
      }
    },
    {
      "cell_type": "code",
      "source": [
        "import numpy as np\n",
        "from google.colab import auth\n",
        "import pandas as pd\n",
        "import time\n",
        "\n",
        "auth.authenticate_user()\n",
        "import gspread\n",
        "from google.auth import default\n",
        "creds, _ = default()\n",
        "gc = gspread.authorize(creds)\n",
        "\n",
        "def read_sheet(wb, name, cols=False, colnames=False, coltypes=False):\n",
        "  df = pd.DataFrame(wb.worksheet(name).get_all_values())[1:]\n",
        "  if cols: df = df[df.columns[cols]]\n",
        "  if colnames: df.columns = colnames\n",
        "  if coltypes: df = df.astype(coltypes)\n",
        "  return df\n",
        "\n",
        "# Nos conectamos a la hoja de cálculo\n",
        "wb = gc.open_by_url('https://docs.google.com/spreadsheets/d/1c6I2FafjKS1HlGXhYaOM2w1oqsgI7eqDOELQ3Nv7y-M')\n",
        "print('Reading data...')\n",
        "\n",
        "# Leemos los rankings\n",
        "print('  Reading tab', 'Rankings', end='')\n",
        "rankings = read_sheet(wb, 'Rankings', [0,1,2,3,4], ['qid', 'docid', 'pos', 'score', 'system'], {'qid':'int', 'pos':'int', 'score':'int'})#rankings\n",
        "rankings = rankings[rankings.docid != '']\n",
        "print('..... ok')\n",
        "\n",
        "# Leemos los juicios de relevancia\n",
        "print('  Reading relevance judgment tabs', end='')\n",
        "qrels = pd.concat([read_sheet(wb, ws.title, [0, 1, 2], ['qid', 'docid', 'rel'], {'qid':'int'})#juicios de relevancia\n",
        "                   for ws in wb.worksheets() if ws.title.startswith('Acierto q')]).reset_index(drop=True)\n",
        "print('..... ok')\n",
        "\n",
        "# Comprobamos duplicados\n",
        "pd.set_option('display.max_colwidth', 50)\n",
        "duplicates = qrels[qrels.duplicated(['qid', 'docid'])]\n",
        "if duplicates.size: print('\\nDuplicate relevance judgments\\n-----------------------------\\n',\n",
        "                          duplicates.to_string(index=False, max_colwidth=70))\n",
        "\n",
        "# Comprobamos que coincidan las URLs en los rankings y juicios de relevancia\n",
        "# (y de paso hacemos un join en ranking_rels para facilitar la implementación de métricas)\n",
        "qm = qrels.merge(rankings, how='left')\n",
        "ranking_rels = rankings.merge(qrels, how='left')\n",
        "missing = ranking_rels[pd.isna(ranking_rels.rel)]\n",
        "if missing.size: print('\\nMissing relevance judgments\\n---------------------------\\n',\n",
        "                       missing[['qid', 'docid']].to_string(index=False, max_colwidth=100))\n",
        "missing = qm[pd.isna(qm.pos)]\n",
        "if missing.size: print('\\nMissing results\\n---------------\\n',\n",
        "                       missing[['qid', 'docid']].to_string(index=False, max_colwidth=100))\n",
        "ranking_rels[\"rel\"]=ranking_rels[\"rel\"].fillna(0)\n",
        "ranking_rels[\"rel\"]=ranking_rels[\"rel\"].astype(float).astype(int)"
      ],
      "metadata": {
        "colab": {
          "base_uri": "https://localhost:8080/"
        },
        "id": "oK0XUXU5pEqn",
        "outputId": "6e32c674-a4df-40a2-d3ab-8b93b109002d"
      },
      "execution_count": null,
      "outputs": [
        {
          "output_type": "stream",
          "name": "stdout",
          "text": [
            "Reading data...\n",
            "  Reading tab Rankings..... ok\n",
            "  Reading relevance judgment tabs..... ok\n"
          ]
        }
      ]
    },
    {
      "cell_type": "markdown",
      "source": [
        "En esta celda siguiente se especifica que query es la que queremos tratar de las que se utilizaron en la práctica 2 y se ha de especificar que qid tenía dicha query.\n"
      ],
      "metadata": {
        "id": "TddAoH2kGmMh"
      }
    },
    {
      "cell_type": "code",
      "execution_count": null,
      "metadata": {
        "id": "8kZSDcTVrskm"
      },
      "outputs": [],
      "source": [
        "\n",
        "q = \"que pasa cuando pego una tostada a un gato y lo tiro por la ventana\"\n",
        "qid = 2\n",
        "urls = ranking_rels[(ranking_rels[\"qid\"] == qid) & (ranking_rels[\"system\"] == \"google\")][\"docid\"]\n"
      ]
    },
    {
      "cell_type": "code",
      "source": [
        "import requests\n",
        "from urllib.request import urlopen\n",
        "from bs4 import BeautifulSoup\n",
        "from collections import Counter\n",
        "import re\n",
        "\n",
        "urls = urls.values\n",
        "valid_url = []\n",
        "import requests\n",
        "texts = []\n",
        "for url in urls:\n",
        "  try:\n",
        "    response = requests.get(url)\n",
        "    texts.append(BeautifulSoup(response.content, \"lxml\").text.lower())\n",
        "    valid_url.append(url)\n",
        "  except:\n",
        "    print(f\"La url: {url} no es accesible\")\n",
        "\n",
        "#texts = [BeautifulSoup(urlopen(url).read(), \"lxml\").text.lower() for url in urls]\n",
        "\n",
        "stoplist = [\"also\", \"could\", \"p\", \"pp\", \"th\", \"however\", \"one\", \"two\", \"many\", \"i\", \"de\", \"la\", \"me\", \"my\", \"myself\", \"the\", \"we\", \"our\", \"ours\", \"ourselves\", \"you\", \"your\", \"yours\", \"yourself\", \"yourselves\", \"he\", \"him\", \"his\", \"himself\", \"she\", \"her\", \"hers\", \"herself\", \"it\", \"its\", \"itself\", \"they\", \"them\", \"their\", \"theirs\", \"themselves\", \"what\", \"which\", \"who\", \"whom\", \"this\", \"that\", \"these\", \"those\", \"am\", \"is\", \"are\", \"was\", \"were\", \"be\", \"been\", \"being\", \"have\", \"has\", \"had\", \"having\", \"do\", \"does\", \"did\", \"doing\", \"a\", \"an\", \"the\", \"and\", \"but\", \"if\", \"or\", \"because\", \"as\", \"until\", \"while\", \"of\", \"at\", \"by\", \"for\", \"with\", \"about\", \"against\", \"between\", \"into\", \"through\", \"during\", \"before\", \"after\", \"above\", \"below\", \"to\", \"from\", \"up\", \"down\", \"in\", \"out\", \"on\", \"off\", \"over\", \"under\", \"again\", \"further\", \"then\", \"once\", \"here\", \"there\", \"when\", \"where\", \"why\", \"how\", \"all\", \"any\", \"both\", \"each\", \"few\", \"more\", \"most\", \"other\", \"some\", \"such\", \"no\", \"nor\", \"not\", \"only\", \"own\", \"same\", \"so\", \"than\", \"too\", \"very\", \"s\", \"t\", \"can\", \"will\", \"just\", \"don\", \"should\", \"now\"]\n"
      ],
      "metadata": {
        "colab": {
          "base_uri": "https://localhost:8080/"
        },
        "id": "fKu5iEusps1I",
        "outputId": "24042402-2313-45f3-bfad-28da4be80ac1"
      },
      "execution_count": null,
      "outputs": [
        {
          "output_type": "stream",
          "name": "stdout",
          "text": [
            "La url: http://elsecretodeberlanga.rf.gd/2017/09/24/la-paradoja-del-gato-y-la-tostada/ no es accesible\n"
          ]
        }
      ]
    },
    {
      "cell_type": "code",
      "source": [
        "freqvector = {url:Counter([word for word in re.findall(r\"[^\\W\\d_]+|\\d+\", text) if word not in stoplist]) for url, text in zip(valid_url, texts)}\n",
        "\n",
        "# Guardamos el vocabulario (el conjunto de todas las palabras que apaercen en los documentos de la colección).\n",
        "vocabulary = set()\n",
        "for word in freqvector.values(): vocabulary.update(word)\n",
        "\n",
        "# Document frequency de cada palabra del vocabulario: nº de documentos que contienen la palabra.\n",
        "docfreqs = {word:len([url for url in freqvector if word in freqvector[url]]) for word in vocabulary}\n",
        "\n",
        "# Frecuencia total para cada palabra del vocabulario: nº total de apariciones en la colección.\n",
        "wordfreqs = {word:sum([freqvector[url][word] for url in freqvector if word in freqvector[url]]) for word in vocabulary}"
      ],
      "metadata": {
        "id": "G9791Qx5qPjk"
      },
      "execution_count": null,
      "outputs": []
    },
    {
      "cell_type": "code",
      "source": [
        "from math import log2, sqrt\n",
        "\n",
        "class VSM:\n",
        "  def __init__(self, freqvector, docfreqs):\n",
        "    self.freqvector = freqvector\n",
        "    self.docfreqs = docfreqs\n",
        "\n",
        "  def search(self, q):\n",
        "    # Calculamos los cosenos de todos los documentos.\n",
        "    ranking = [(url, self.dotproduct(url, q) / self.module(url)) if self.module(url) != 0 else (url,0) for url in self.freqvector]\n",
        "    # Eliminamos los documentos con coseno = 0.\n",
        "    #ranking = [(url, cos) for url, cos in ranking if cos > 0]\n",
        "    # Ordenamos.\n",
        "    ranking.sort(key=lambda x: x[1], reverse=True)\n",
        "    return ranking\n",
        "\n",
        "  def dotproduct(self, url, q):\n",
        "    result = 0\n",
        "    for word in q:\n",
        "      result += self.tf(word, url) * self.idf(word)\n",
        "    return result\n",
        "\n",
        "\n",
        "  def module(self, url):\n",
        "    result = 0\n",
        "    for word in self.freqvector[url]:\n",
        "      result += self.freqvector[url][word]**2\n",
        "    return sqrt(result)\n",
        "\n",
        "\n",
        "\n",
        "  def tf(self, word, url):\n",
        "    if self.freqvector[url][word] > 0:\n",
        "      return (1+log2(self.freqvector[url][word]))\n",
        "    else:\n",
        "      return 0\n",
        "\n",
        "\n",
        "  def idf(self,word):\n",
        "    try:\n",
        "      self.docfreqs[word]\n",
        "      return (log2(len(self.freqvector) + 0.5) / (self.docfreqs[word])+1)\n",
        "    except:\n",
        "      return 0\n",
        "\n",
        "\n",
        "def tratamiento(q):\n",
        "  aux = []\n",
        "  for word in q.split():\n",
        "    if word not in stoplist:\n",
        "      aux.append(word)\n",
        "  return aux"
      ],
      "metadata": {
        "id": "qwznYOln6_W-"
      },
      "execution_count": null,
      "outputs": []
    },
    {
      "cell_type": "markdown",
      "source": [
        "Ya con el tratamiento de los textos de las distintas urls procedemos a hacer un ranking inicial con la VSM implementada en la práctica 1."
      ],
      "metadata": {
        "id": "PYEX9mPjGz42"
      }
    },
    {
      "cell_type": "code",
      "source": [
        "modelo = VSM(freqvector, docfreqs)\n",
        "\n",
        "ranking_VSM = modelo.search(tratamiento(q))\n",
        "ranking_VSM"
      ],
      "metadata": {
        "colab": {
          "base_uri": "https://localhost:8080/"
        },
        "id": "cqrBl_5I6-z8",
        "outputId": "40a25ff2-7091-4170-8ef2-baf63d430b77"
      },
      "execution_count": null,
      "outputs": [
        {
          "output_type": "execute_result",
          "data": {
            "text/plain": [
              "[('https://es.quora.com/Si-un-gato-cae-siempre-de-pie-y-una-tostada-con-mantequilla-cae-siempre-por-el-lado-en-que-est%C3%A1-untada-que-pasar%C3%ADa-si-le-atas-a-un-gato-en-la-espalda-una-tostada-con-la-mantequilla-hacia-arriba-y-luego-lo',\n",
              "  2.295629276423073),\n",
              " ('https://es.quora.com/Si-una-tostada-con-mantequilla-cae-siempre-en-el-lado-de-la-mantequilla-y-un-gato-cae-siempre-de-pie-Si-peg%C3%A1ramos-una-tostada-de-mantequilla-en-la-espalda-de-un-gato-no-cae',\n",
              "  1.8021301033711683),\n",
              " ('https://www.advance-affinity.com/es/es/gato/consejos/el-sindrome-del-gato-paracaidista',\n",
              "  1.0178096748215466),\n",
              " ('https://www.lasexta.com/programas/arusitys/tremendo-susto-que-pega-gato-cuando-tostadas-salen-disparadas-tostadora_2023111865586ff0f6ca720001270a32.html',\n",
              "  0.9573486927002407),\n",
              " ('https://webs.ucm.es/BUCM/blogs/InfoMat/4968.php', 0.6792256721154222),\n",
              " ('https://www.webconsultas.com/mascotas/primeros-auxilios-para-mascotas/caida-libre-en-gatos-como-actuar',\n",
              "  0.5425507711943592),\n",
              " ('https://ztfnews.wordpress.com/2011/12/05/la-paradoja-del-gato-y-la-tostada/',\n",
              "  0.49631425258683176),\n",
              " ('https://urgenciesveterinaries.com/gato-caido-ventana-sindrome-gato-paracaidista-que-hacer/',\n",
              "  0.4791021637911613),\n",
              " ('https://www.contrib.andrew.cmu.edu/~norm/SteveQuotes.html', 0.0)]"
            ]
          },
          "metadata": {},
          "execution_count": 18
        }
      ]
    },
    {
      "cell_type": "markdown",
      "source": [
        "Aquí se procede a utilizar el algoritmo de Rocchio para intentar mejorar el ranking hecho por la VSM, para ello calcularemos el tf-idf de los textos, separando primero por los relevantes y los no relevantes, esta es la parte donde el Oráculo interviene ya que aquí es donde tenemos que saber cuales son los relevantes y tienen importancia."
      ],
      "metadata": {
        "id": "rLrRIal5_X31"
      }
    },
    {
      "cell_type": "code",
      "source": [
        "relev = ranking_rels[(ranking_rels[\"qid\"] == qid) & (ranking_rels[\"system\"] == \"google\") & (ranking_rels[\"rel\"] > 0)].drop(100, axis = 0)\n",
        "no_relev = ranking_rels[(ranking_rels[\"qid\"] == qid) & (ranking_rels[\"system\"] == \"google\") & (ranking_rels[\"rel\"] == 0)]\n",
        "\n",
        "def tf(word, url, freqvector):\n",
        "    if freqvector[url][word] > 0:\n",
        "      return (1+log2(freqvector[url][word]))\n",
        "    else:\n",
        "      return 0\n",
        "\n",
        "def idf(word, docfreqs, freqvector):\n",
        "    try:\n",
        "      docfreqs[word]\n",
        "      return (log2(len(freqvector) + 0.5) / (docfreqs[word])+1)\n",
        "    except:\n",
        "      return 0\n",
        "\n",
        "def module( url, freqvector):\n",
        "    result = 0\n",
        "    for word in freqvector[url]:\n",
        "      result += freqvector[url][word]**2\n",
        "    return sqrt(result)\n"
      ],
      "metadata": {
        "id": "5yyGS5huBcWa"
      },
      "execution_count": null,
      "outputs": []
    },
    {
      "cell_type": "markdown",
      "source": [
        "Se calcula primero un vector_q inicial, el cual representa la query como un vector de idf, y se calcula para cada uno de las url relevantes y no relevantes su propio vector de tf."
      ],
      "metadata": {
        "id": "y-VKqVfeHmNI"
      }
    },
    {
      "cell_type": "code",
      "source": [
        "vector_q = [idf(word,docfreqs, freqvector) if word in docfreqs.keys() else 0 for word in tratamiento(q)]\n",
        "\n",
        "vec_rel ={}\n",
        "\n",
        "for url in relev[\"docid\"]:\n",
        "  vec_rel[url]= [tf(word, url, freqvector) if word in freqvector[url].keys() else 0 for word in tratamiento(q)]\n",
        "\n",
        "\n",
        "vec_no_rel = {}\n",
        "for url in no_relev[\"docid\"]:\n",
        "  vec_no_rel[url] =[tf(word, url, freqvector) if word in freqvector[url].keys() else 0 for word in tratamiento(q)]\n"
      ],
      "metadata": {
        "id": "BEYtxqcPSFez"
      },
      "execution_count": null,
      "outputs": []
    },
    {
      "cell_type": "markdown",
      "source": [
        "Se aplica la fórmula de Rocchio\n",
        "\n",
        "\\begin{equation}\n",
        "q_{new} = \\alpha \\cdot q + \\frac{\\beta}{| D_r |} \\cdot \\sum_{d_j \\in D_r}d_j - \\frac{\\gamma}{|D_{n}|}\\cdot \\sum_{d_j \\in D_n}d_j\n",
        "\\end{equation}"
      ],
      "metadata": {
        "id": "YD7QIdZaH6qB"
      }
    },
    {
      "cell_type": "code",
      "source": [
        "alpha = 1\n",
        "beta = 1\n",
        "gamma = 1\n",
        "\n",
        "q_new = alpha * np.array(vector_q) + beta * np.array(list(vec_rel.values())).sum(axis = 0) / len(vec_rel) - gamma * np.array(list(vec_no_rel.values())).sum(axis = 0) / len(vec_no_rel)"
      ],
      "metadata": {
        "id": "S32eXgKPGQpD"
      },
      "execution_count": null,
      "outputs": []
    },
    {
      "cell_type": "markdown",
      "source": [
        "Finalmente se calcula el nuevo ranking utilizando el nuevo vector de query."
      ],
      "metadata": {
        "id": "QUaMsfxwJA4C"
      }
    },
    {
      "cell_type": "code",
      "source": [
        "\n",
        "ranking_relevantes = [(url, (q_new * np.array(vec)).sum() / module(url, freqvector)) if module(url, freqvector) != 0 else (url,0) for url, vec in vec_rel.items()]\n",
        "ranking_no_relevantes = [(url, (q_new * np.array(vec)).sum() / module(url, freqvector)) if module(url, freqvector) != 0 else (url,0) for url, vec in vec_no_rel.items()]\n",
        "ranking_RF = ranking_relevantes + ranking_no_relevantes\n",
        "ranking_RF.sort(key=lambda x: x[1], reverse=True)\n",
        "print(ranking_RF)\n"
      ],
      "metadata": {
        "colab": {
          "base_uri": "https://localhost:8080/"
        },
        "id": "JS8UVYv4HydC",
        "outputId": "073d65bd-68e0-4e5d-c728-1843ad9835d2"
      },
      "execution_count": null,
      "outputs": [
        {
          "output_type": "stream",
          "name": "stdout",
          "text": [
            "[('https://es.quora.com/Si-una-tostada-con-mantequilla-cae-siempre-en-el-lado-de-la-mantequilla-y-un-gato-cae-siempre-de-pie-Si-peg%C3%A1ramos-una-tostada-de-mantequilla-en-la-espalda-de-un-gato-no-cae', 2.065929560901684), ('https://es.quora.com/Si-un-gato-cae-siempre-de-pie-y-una-tostada-con-mantequilla-cae-siempre-por-el-lado-en-que-est%C3%A1-untada-que-pasar%C3%ADa-si-le-atas-a-un-gato-en-la-espalda-una-tostada-con-la-mantequilla-hacia-arriba-y-luego-lo', 2.025302561981246), ('https://webs.ucm.es/BUCM/blogs/InfoMat/4968.php', 0.5554177782660165), ('https://www.advance-affinity.com/es/es/gato/consejos/el-sindrome-del-gato-paracaidista', 0.4995037565869204), ('https://ztfnews.wordpress.com/2011/12/05/la-paradoja-del-gato-y-la-tostada/', 0.4200269428401949), ('https://www.lasexta.com/programas/arusitys/tremendo-susto-que-pega-gato-cuando-tostadas-salen-disparadas-tostadora_2023111865586ff0f6ca720001270a32.html', 0.4152398903358381), ('https://www.webconsultas.com/mascotas/primeros-auxilios-para-mascotas/caida-libre-en-gatos-como-actuar', 0.2472678203101915), ('https://urgenciesveterinaries.com/gato-caido-ventana-sindrome-gato-paracaidista-que-hacer/', 0.21659312365226555), ('https://www.contrib.andrew.cmu.edu/~norm/SteveQuotes.html', 0.0)]\n"
          ]
        }
      ]
    },
    {
      "cell_type": "markdown",
      "metadata": {
        "id": "GvzrK_Q9rskn"
      },
      "source": [
        "## 2.2 Comparar efectividad\n",
        "\n",
        "Comparar la efectividad de los ránkings resultantes de aplicar relevance feedback en comparación con el ránking inicial, en términos de precisión y nDCG.\n",
        "\n",
        "Nota: para Google (apartado 2.1), el propio estudiante tendrá que añadir juicios de relevancia a los nuevos documentos que pueda devolver Google para la consulta expandida."
      ]
    },
    {
      "cell_type": "markdown",
      "source": [
        "Hay que poner el ranking final del relevance feedback y comparar la p@10 y el nDCG entre los dos rankings"
      ],
      "metadata": {
        "id": "NXRw7rblKfC-"
      }
    },
    {
      "cell_type": "code",
      "execution_count": null,
      "metadata": {
        "id": "Di-sqWeprskn",
        "colab": {
          "base_uri": "https://localhost:8080/"
        },
        "outputId": "fb1709b5-c5a9-48fd-94f8-02f72a3ea56b"
      },
      "outputs": [
        {
          "output_type": "stream",
          "name": "stdout",
          "text": [
            "Ranking con VSM\n",
            "                                               docid  pos  rel\n",
            "0  https://es.quora.com/Si-un-gato-cae-siempre-de...  1.0  2.0\n",
            "1  https://es.quora.com/Si-una-tostada-con-manteq...  2.0  1.0\n",
            "2  https://www.advance-affinity.com/es/es/gato/co...  3.0  0.0\n",
            "3  https://www.lasexta.com/programas/arusitys/tre...  4.0  0.0\n",
            "4    https://webs.ucm.es/BUCM/blogs/InfoMat/4968.php  5.0  1.0\n",
            "5  https://www.webconsultas.com/mascotas/primeros...  6.0  0.0\n",
            "6  https://ztfnews.wordpress.com/2011/12/05/la-pa...  7.0  2.0\n",
            "7  https://urgenciesveterinaries.com/gato-caido-v...  8.0  0.0\n",
            "8  https://www.contrib.andrew.cmu.edu/~norm/Steve...  9.0  0.0\n",
            "\n",
            "_______________________________\n",
            "\n",
            "Ranking con relevance feedback\n",
            "                                               docid  pos  rel\n",
            "0  https://es.quora.com/Si-una-tostada-con-manteq...  1.0  1.0\n",
            "1  https://es.quora.com/Si-un-gato-cae-siempre-de...  2.0  2.0\n",
            "2    https://webs.ucm.es/BUCM/blogs/InfoMat/4968.php  3.0  1.0\n",
            "3  https://www.advance-affinity.com/es/es/gato/co...  4.0  0.0\n",
            "4  https://ztfnews.wordpress.com/2011/12/05/la-pa...  5.0  2.0\n",
            "5  https://www.lasexta.com/programas/arusitys/tre...  6.0  0.0\n",
            "6  https://www.webconsultas.com/mascotas/primeros...  7.0  0.0\n",
            "7  https://urgenciesveterinaries.com/gato-caido-v...  8.0  0.0\n",
            "8  https://www.contrib.andrew.cmu.edu/~norm/Steve...  9.0  0.0\n"
          ]
        }
      ],
      "source": [
        "# TODO´\n",
        "ranking_df_VSM = pd.DataFrame(columns = [\"docid\",  \"pos\" ,\"rel\"],  index=range(len(ranking_VSM)))\n",
        "for i in range(len(ranking_VSM)):\n",
        "  ranking_df_VSM.iloc[i] = (ranking_VSM[i][0], float(i+1), float(ranking_rels[ranking_rels[\"docid\"] == ranking_VSM[i][0]][\"rel\"].values[0]))\n",
        "\n",
        "print(\"Ranking con VSM\")\n",
        "print(ranking_df_VSM.head(10))\n",
        "print(\"\\n_______________________________\\n\")\n",
        "\n",
        "\n",
        "ranking_df_RF = pd.DataFrame(columns = [\"docid\",  \"pos\" ,\"rel\"],  index=range(len(ranking_RF)))\n",
        "for i in range(len(ranking_RF)):\n",
        "  ranking_df_RF.iloc[i] = (ranking_RF[i][0], float(i+1), float(ranking_rels[ranking_rels[\"docid\"] == ranking_RF[i][0]][\"rel\"].values[0]))\n",
        "print(\"Ranking con relevance feedback\")\n",
        "print(ranking_df_RF.head(10))\n",
        "\n",
        "def prec(ranking, max_len):\n",
        "  aux = ranking.copy().iloc[:max_len]\n",
        "  aux['rel'] = aux['rel'].apply(lambda x : 1 if x > 0 else 0)\n",
        "  return aux[\"rel\"].mean()\n",
        "\n",
        "def DCG(ranking):\n",
        "  rk = ranking.copy()\n",
        "  aux = rk[\"rel\"] / np.log2((rk[\"pos\"] +1).astype(float))\n",
        "  rk[\"DCG\"] = aux\n",
        "  return rk[\"DCG\"].sum()\n",
        "\n",
        "def IDCG(ranking):\n",
        "  rk = ranking.copy()\n",
        "  rk = pd.DataFrame(rk.sort_values(['rel'], ascending=[False]))\n",
        "  rk[\"pos\"] = np.arange(1,ranking['pos'].nunique()+1)\n",
        "  aux = rk[\"rel\"] / np.log2(rk[\"pos\"] +1)\n",
        "  rk[\"IDCG\"] = aux\n",
        "  return rk['IDCG'].sum()\n",
        "\n",
        "def nDCG_(ranking):\n",
        "  return DCG(ranking) / IDCG(ranking)"
      ]
    },
    {
      "cell_type": "code",
      "source": [
        "print(f\"prec para ranking VSM:{prec(ranking_df_VSM, 5)}\")\n",
        "print(f\"nDCG para ranking VSM:{nDCG_(ranking_df_VSM)}\")\n",
        "print(f\"prec para ranking VSM con relevance feedback:{prec(ranking_df_RF, 5)}\")\n",
        "print(f\"nDCG para ranking VSM con relevance feedback:{nDCG_(ranking_df_RF)}\")"
      ],
      "metadata": {
        "colab": {
          "base_uri": "https://localhost:8080/"
        },
        "id": "jxakk2KZP8u4",
        "outputId": "2cbe4fb1-51b4-4f07-9bc9-53f4ac851e57"
      },
      "execution_count": null,
      "outputs": [
        {
          "output_type": "stream",
          "name": "stdout",
          "text": [
            "prec para ranking VSM:0.6\n",
            "nDCG para ranking VSM:0.878811576134306\n",
            "prec para ranking VSM con relevance feedback:0.8\n",
            "nDCG para ranking VSM con relevance feedback:0.843299870678533\n"
          ]
        }
      ]
    },
    {
      "cell_type": "markdown",
      "source": [
        "Se puede ver que aunque el nDCG con relevance feedback ha bajado ligeramente, la precisión ha aumentado en un 20%, esto se debe a que en el ranking con RF intercambia la posición en el ranking final de una web con relevancia 2 por una de relevancia 1, pero en cambio consigue que en los primeros 5 puestos del ranking el 80% de las web son relevantes, en contraste con el VSM usual que solo tiene un 60% de relevantes. Por lo que se puede concluir que realmente el uso del relevance feedback ha afectado de forma positiva a los resultados, mejorando el ranking obtenido."
      ],
      "metadata": {
        "id": "jtQX4kvGJfP5"
      }
    },
    {
      "cell_type": "markdown",
      "metadata": {
        "id": "tsXsmSUXrskn"
      },
      "source": [
        "## 2.3 Informe\n",
        "\n",
        "Escribir un informe con los resultados y detalles de los métodos y fórmulas aplicados, así como las diferencias observadas entre los resultados de las diferentes opciones y modelos."
      ]
    },
    {
      "cell_type": "markdown",
      "metadata": {
        "id": "_idMYGQqrskn"
      },
      "source": [
        "Como se ha ido comentando a lo largo de este punto se ha estudiado el uso de relevance feedback para la mejora de búsqueda, se ha utilizado para ello como algoritmo de ranking VSM y como método de mejora de la query el algoritmo dado por la fórmula de Rocchio, la fuente del feedback ha sido un oráculo por el cual se ha visto qué documentos son relevantes para la query y cuales no.\n",
        "\n",
        "Primero se ha rankeado las urls utilizando VSM simplemente, calculado el tf-idf.\n",
        "\n",
        "A continuación se ha procedido a intentar mejorar el ranking utilzando el feedback. Se ha separado las url entre las relevantes y las que no son relevantes gracias a los datos utilizados en la práctica 2. Se ha calculado el vector de la query utilizando tf, y se ha calculado el vector de cada una de las url con respecto al de la query usando idf.\n",
        "\n",
        "Con estos vectores, utilizando la fórmula de Rocchio\n",
        "\\begin{equation}\n",
        "q_{new} = \\alpha \\cdot q + \\frac{\\beta}{| D_r |} \\cdot \\sum_{d_j \\in D_r}d_j - \\frac{\\gamma}{|D_{n}|}\\cdot \\sum_{d_j \\in D_n}d_j\n",
        "\\end{equation}\n",
        "Con parámetros  $\\alpha = 1, \\beta =1, \\gamma = 1$\n",
        "\n",
        "Se ha recalcualado el vector de la query y se ha utilizado para conseguir un nuevo ranking. Estudiando con $prob@5$ (ya que $prob@10$ no daba resultados relevantes ya que solo teníamos 10 urls entre las que estudiar por lo que siempre da el mismo resultado da igual el ranking), y con $nDCG$, con lo que se ha podido concluir que hay una mejora considerable en el ranking si se utiliza el relevance feedback para la mejora del vector de query, obteniendo para nuestro caso de aplicación una mejora del 20% en precisión."
      ]
    },
    {
      "cell_type": "markdown",
      "metadata": {
        "id": "uqp6PtBarsko"
      },
      "source": [
        "## Opcional 2.A\n",
        "\n",
        "Probar a realizar varias iteraciones de relevance feedback en aquellos métodos donde sea viable y/o tenga más sentido (p.e. es más difícil con buscadores comerciales, ya que entrarían nuevos documentos de los que habría que extraer el vector de palabras, y -salvo para PRF- obtener nuevos clicks y/o juicios de relevancia)."
      ]
    },
    {
      "cell_type": "code",
      "execution_count": null,
      "metadata": {
        "id": "Ob7vwaVqrsko",
        "colab": {
          "base_uri": "https://localhost:8080/"
        },
        "outputId": "c9a0125f-2e14-486e-d63d-c11e9a1c526d"
      },
      "outputs": [
        {
          "output_type": "stream",
          "name": "stdout",
          "text": [
            "Ranking con relevance feedback iterado\n",
            "                                               docid  pos  rel\n",
            "0  https://es.quora.com/Si-una-tostada-con-manteq...  1.0  1.0\n",
            "1  https://es.quora.com/Si-un-gato-cae-siempre-de...  2.0  2.0\n",
            "2    https://webs.ucm.es/BUCM/blogs/InfoMat/4968.php  3.0  1.0\n",
            "3  https://ztfnews.wordpress.com/2011/12/05/la-pa...  4.0  2.0\n",
            "4  https://www.contrib.andrew.cmu.edu/~norm/Steve...  5.0  0.0\n",
            "5  https://urgenciesveterinaries.com/gato-caido-v...  6.0  0.0\n",
            "6  https://www.webconsultas.com/mascotas/primeros...  7.0  0.0\n",
            "7  https://www.advance-affinity.com/es/es/gato/co...  8.0  0.0\n",
            "8  https://www.lasexta.com/programas/arusitys/tre...  9.0  0.0\n",
            "\n",
            "__________________________\n",
            "\n",
            "prec para ranking VSM con relevance feedback iterado:0.8\n",
            "nDCG para ranking VSM con relevance feedback iterado:0.8642054753803928\n"
          ]
        }
      ],
      "source": [
        "# TODO\n",
        "#Seguir iterando con lo anterior\n",
        "\n",
        "\n",
        "vector_q = [idf(word,docfreqs, freqvector) if word in docfreqs.keys() else 0 for word in tratamiento(q)]\n",
        "for _ in range(3):\n",
        "  vec_rel ={}\n",
        "\n",
        "  for url in relev[\"docid\"]:\n",
        "    vec_rel[url]= [tf(word, url, freqvector) if word in freqvector[url].keys() else 0 for word in tratamiento(q)]\n",
        "\n",
        "\n",
        "  vec_no_rel = {}\n",
        "  for url in no_relev[\"docid\"]:\n",
        "    vec_no_rel[url] =[tf(word, url, freqvector) if word in freqvector[url].keys() else 0 for word in tratamiento(q)]\n",
        "\n",
        "  alpha = 1\n",
        "  beta = 1\n",
        "  gamma = 1\n",
        "\n",
        "  vector_q = alpha * np.array(vector_q) + beta * np.array(list(vec_rel.values())).sum(axis = 0) / len(vec_rel) - gamma * np.array(list(vec_no_rel.values())).sum(axis = 0) / len(vec_no_rel)\n",
        "\n",
        "q_new = vector_q\n",
        "\n",
        "ranking_relevantes = [(url, (q_new * np.array(vec)).sum() / module(url, freqvector)) if module(url, freqvector) != 0 else (url,0) for url, vec in vec_rel.items()]\n",
        "ranking_no_relevantes = [(url, (q_new * np.array(vec)).sum() / module(url, freqvector)) if module(url, freqvector) != 0 else (url,0) for url, vec in vec_no_rel.items()]\n",
        "ranking_RF = ranking_relevantes + ranking_no_relevantes\n",
        "ranking_RF.sort(key=lambda x: x[1], reverse=True)\n",
        "\n",
        "\n",
        "ranking_df_RF_iter = pd.DataFrame(columns = [\"docid\",  \"pos\" ,\"rel\"],  index=range(len(ranking_RF)))\n",
        "for i in range(len(ranking_RF)):\n",
        "  ranking_df_RF_iter.iloc[i] = (ranking_RF[i][0], float(i+1), float(ranking_rels[ranking_rels[\"docid\"] == ranking_RF[i][0]][\"rel\"].values[0]))\n",
        "print(\"Ranking con relevance feedback iterado\")\n",
        "print(ranking_df_RF_iter.head(10))\n",
        "print(\"\\n__________________________\\n\")\n",
        "print(f\"prec para ranking VSM con relevance feedback iterado:{prec(ranking_df_RF_iter, 5)}\")\n",
        "print(f\"nDCG para ranking VSM con relevance feedback iterado:{nDCG_(ranking_df_RF_iter)}\")"
      ]
    },
    {
      "cell_type": "markdown",
      "source": [
        "Los resultados obtenidos aunque no mucho mejores que el obtenido con una única iteración se puede ver que el nDCG ha mejorado ligeramente y el ranking ha mejorado poniendo en las primeras 4 posiciones webs relevantes, cosa que no se había conseguido en los intentos anteriores.\n"
      ],
      "metadata": {
        "id": "4wwSNJCFNGIo"
      }
    },
    {
      "cell_type": "markdown",
      "metadata": {
        "id": "zWoMGhKQrsko"
      },
      "source": [
        "## Opcional 2.B\n",
        "\n",
        "Probar valores diferentes de alfa, beta y gamma en Rocchio, diferentes cutoff en PRF, y/o diferente nº de términos de expansión."
      ]
    },
    {
      "cell_type": "code",
      "execution_count": null,
      "metadata": {
        "id": "xIkd3X6mrsko",
        "colab": {
          "base_uri": "https://localhost:8080/"
        },
        "outputId": "6d616c78-954d-4386-c4ad-cf03cb2877a7"
      },
      "outputs": [
        {
          "output_type": "stream",
          "name": "stdout",
          "text": [
            "Ranking con relevance feedback iterado con parámetros:\n",
            " alpha = 1\n",
            " beta = 0\n",
            " gamma = 0.5\n",
            "                                               docid  pos  rel\n",
            "0  https://www.contrib.andrew.cmu.edu/~norm/Steve...  1.0  0.0\n",
            "1  https://urgenciesveterinaries.com/gato-caido-v...  2.0  0.0\n",
            "2  https://ztfnews.wordpress.com/2011/12/05/la-pa...  3.0  2.0\n",
            "3  https://www.webconsultas.com/mascotas/primeros...  4.0  0.0\n",
            "4    https://webs.ucm.es/BUCM/blogs/InfoMat/4968.php  5.0  1.0\n",
            "5  https://www.advance-affinity.com/es/es/gato/co...  6.0  0.0\n",
            "6  https://www.lasexta.com/programas/arusitys/tre...  7.0  0.0\n",
            "7  https://es.quora.com/Si-una-tostada-con-manteq...  8.0  1.0\n",
            "8  https://es.quora.com/Si-un-gato-cae-siempre-de...  9.0  2.0\n",
            "\n",
            "__________________________\n",
            "\n",
            "prec para ranking VSM con relevance feedback iterado:0.4\n",
            "nDCG para ranking VSM con relevance feedback iterado:0.5496381282123429\n",
            "Ranking con relevance feedback iterado con parámetros:\n",
            " alpha = 1\n",
            " beta = 1.5\n",
            " gamma = 0\n",
            "                                               docid  pos  rel\n",
            "0  https://es.quora.com/Si-un-gato-cae-siempre-de...  1.0  2.0\n",
            "1  https://es.quora.com/Si-una-tostada-con-manteq...  2.0  1.0\n",
            "2  https://www.lasexta.com/programas/arusitys/tre...  3.0  0.0\n",
            "3  https://www.advance-affinity.com/es/es/gato/co...  4.0  0.0\n",
            "4    https://webs.ucm.es/BUCM/blogs/InfoMat/4968.php  5.0  1.0\n",
            "5  https://www.webconsultas.com/mascotas/primeros...  6.0  0.0\n",
            "6  https://ztfnews.wordpress.com/2011/12/05/la-pa...  7.0  2.0\n",
            "7  https://urgenciesveterinaries.com/gato-caido-v...  8.0  0.0\n",
            "8  https://www.contrib.andrew.cmu.edu/~norm/Steve...  9.0  0.0\n",
            "\n",
            "__________________________\n",
            "\n",
            "prec para ranking VSM con relevance feedback iterado:0.6\n",
            "nDCG para ranking VSM con relevance feedback iterado:0.878811576134306\n",
            "Ranking con relevance feedback iterado con parámetros:\n",
            " alpha = 0\n",
            " beta = 1.5\n",
            " gamma = 1.5\n",
            "                                               docid  pos  rel\n",
            "0  https://es.quora.com/Si-una-tostada-con-manteq...  1.0  1.0\n",
            "1  https://www.contrib.andrew.cmu.edu/~norm/Steve...  2.0  0.0\n",
            "2  https://ztfnews.wordpress.com/2011/12/05/la-pa...  3.0  2.0\n",
            "3    https://webs.ucm.es/BUCM/blogs/InfoMat/4968.php  4.0  1.0\n",
            "4  https://urgenciesveterinaries.com/gato-caido-v...  5.0  0.0\n",
            "5  https://es.quora.com/Si-un-gato-cae-siempre-de...  6.0  2.0\n",
            "6  https://www.webconsultas.com/mascotas/primeros...  7.0  0.0\n",
            "7  https://www.advance-affinity.com/es/es/gato/co...  8.0  0.0\n",
            "8  https://www.lasexta.com/programas/arusitys/tre...  9.0  0.0\n",
            "\n",
            "__________________________\n",
            "\n",
            "prec para ranking VSM con relevance feedback iterado:0.6\n",
            "nDCG para ranking VSM con relevance feedback iterado:0.7496872736209304\n"
          ]
        }
      ],
      "source": [
        "# TODO\n",
        "#cambiar los parámetros y probar\n",
        "# TODO\n",
        "#Seguir iterando con lo anterior\n",
        "\n",
        "\n",
        "vector_q = [idf(word,docfreqs, freqvector) if word in docfreqs.keys() else 0 for word in tratamiento(q)]\n",
        "for _ in range(3):\n",
        "  vec_rel ={}\n",
        "\n",
        "  for url in relev[\"docid\"]:\n",
        "    vec_rel[url]= [tf(word, url, freqvector) if word in freqvector[url].keys() else 0 for word in tratamiento(q)]\n",
        "\n",
        "\n",
        "  vec_no_rel = {}\n",
        "  for url in no_relev[\"docid\"]:\n",
        "    vec_no_rel[url] =[tf(word, url, freqvector) if word in freqvector[url].keys() else 0 for word in tratamiento(q)]\n",
        "\n",
        "  alpha = 1\n",
        "  beta = 0\n",
        "  gamma = 0.5\n",
        "\n",
        "  vector_q = alpha * np.array(vector_q) + beta * np.array(list(vec_rel.values())).sum(axis = 0) / len(vec_rel) - gamma * np.array(list(vec_no_rel.values())).sum(axis = 0) / len(vec_no_rel)\n",
        "\n",
        "q_new = vector_q\n",
        "\n",
        "ranking_relevantes = [(url, (q_new * np.array(vec)).sum() / module(url, freqvector)) if module(url, freqvector) != 0 else (url,0) for url, vec in vec_rel.items()]\n",
        "ranking_no_relevantes = [(url, (q_new * np.array(vec)).sum() / module(url, freqvector)) if module(url, freqvector) != 0 else (url,0) for url, vec in vec_no_rel.items()]\n",
        "ranking_RF = ranking_relevantes + ranking_no_relevantes\n",
        "ranking_RF.sort(key=lambda x: x[1], reverse=True)\n",
        "\n",
        "\n",
        "ranking_df_RF_iter = pd.DataFrame(columns = [\"docid\",  \"pos\" ,\"rel\"],  index=range(len(ranking_RF)))\n",
        "for i in range(len(ranking_RF)):\n",
        "  ranking_df_RF_iter.iloc[i] = (ranking_RF[i][0], float(i+1), float(ranking_rels[ranking_rels[\"docid\"] == ranking_RF[i][0]][\"rel\"].values[0]))\n",
        "print(f\"Ranking con relevance feedback iterado con parámetros:\\n alpha = {alpha}\\n beta = {beta}\\n gamma = {gamma}\")\n",
        "print(ranking_df_RF_iter.head(10))\n",
        "print(\"\\n__________________________\\n\")\n",
        "print(f\"prec para ranking VSM con relevance feedback iterado:{prec(ranking_df_RF_iter, 5)}\")\n",
        "print(f\"nDCG para ranking VSM con relevance feedback iterado:{nDCG_(ranking_df_RF_iter)}\")\n",
        "\n",
        "# TODO\n",
        "#Seguir iterando con lo anterior\n",
        "\n",
        "\n",
        "vector_q = [idf(word,docfreqs, freqvector) if word in docfreqs.keys() else 0 for word in tratamiento(q)]\n",
        "for _ in range(3):\n",
        "  vec_rel ={}\n",
        "\n",
        "  for url in relev[\"docid\"]:\n",
        "    vec_rel[url]= [tf(word, url, freqvector) if word in freqvector[url].keys() else 0 for word in tratamiento(q)]\n",
        "\n",
        "\n",
        "  vec_no_rel = {}\n",
        "  for url in no_relev[\"docid\"]:\n",
        "    vec_no_rel[url] =[tf(word, url, freqvector) if word in freqvector[url].keys() else 0 for word in tratamiento(q)]\n",
        "\n",
        "  alpha = 1\n",
        "  beta = 1.5\n",
        "  gamma = 0\n",
        "\n",
        "  vector_q = alpha * np.array(vector_q) + beta * np.array(list(vec_rel.values())).sum(axis = 0) / len(vec_rel) - gamma * np.array(list(vec_no_rel.values())).sum(axis = 0) / len(vec_no_rel)\n",
        "\n",
        "q_new = vector_q\n",
        "\n",
        "ranking_relevantes = [(url, (q_new * np.array(vec)).sum() / module(url, freqvector)) if module(url, freqvector) != 0 else (url,0) for url, vec in vec_rel.items()]\n",
        "ranking_no_relevantes = [(url, (q_new * np.array(vec)).sum() / module(url, freqvector)) if module(url, freqvector) != 0 else (url,0) for url, vec in vec_no_rel.items()]\n",
        "ranking_RF = ranking_relevantes + ranking_no_relevantes\n",
        "ranking_RF.sort(key=lambda x: x[1], reverse=True)\n",
        "\n",
        "\n",
        "ranking_df_RF_iter = pd.DataFrame(columns = [\"docid\",  \"pos\" ,\"rel\"],  index=range(len(ranking_RF)))\n",
        "for i in range(len(ranking_RF)):\n",
        "  ranking_df_RF_iter.iloc[i] = (ranking_RF[i][0], float(i+1), float(ranking_rels[ranking_rels[\"docid\"] == ranking_RF[i][0]][\"rel\"].values[0]))\n",
        "print(f\"Ranking con relevance feedback iterado con parámetros:\\n alpha = {alpha}\\n beta = {beta}\\n gamma = {gamma}\")\n",
        "print(ranking_df_RF_iter.head(10))\n",
        "print(\"\\n__________________________\\n\")\n",
        "print(f\"prec para ranking VSM con relevance feedback iterado:{prec(ranking_df_RF_iter, 5)}\")\n",
        "print(f\"nDCG para ranking VSM con relevance feedback iterado:{nDCG_(ranking_df_RF_iter)}\")\n",
        "\n",
        "# TODO\n",
        "#Seguir iterando con lo anterior\n",
        "\n",
        "\n",
        "vector_q = [idf(word,docfreqs, freqvector) if word in docfreqs.keys() else 0 for word in tratamiento(q)]\n",
        "for _ in range(3):\n",
        "  vec_rel ={}\n",
        "\n",
        "  for url in relev[\"docid\"]:\n",
        "    vec_rel[url]= [tf(word, url, freqvector) if word in freqvector[url].keys() else 0 for word in tratamiento(q)]\n",
        "\n",
        "\n",
        "  vec_no_rel = {}\n",
        "  for url in no_relev[\"docid\"]:\n",
        "    vec_no_rel[url] =[tf(word, url, freqvector) if word in freqvector[url].keys() else 0 for word in tratamiento(q)]\n",
        "\n",
        "  alpha = 0\n",
        "  beta = 1.5\n",
        "  gamma = 1.5\n",
        "\n",
        "  vector_q = alpha * np.array(vector_q) + beta * np.array(list(vec_rel.values())).sum(axis = 0) / len(vec_rel) - gamma * np.array(list(vec_no_rel.values())).sum(axis = 0) / len(vec_no_rel)\n",
        "\n",
        "q_new = vector_q\n",
        "\n",
        "ranking_relevantes = [(url, (q_new * np.array(vec)).sum() / module(url, freqvector)) if module(url, freqvector) != 0 else (url,0) for url, vec in vec_rel.items()]\n",
        "ranking_no_relevantes = [(url, (q_new * np.array(vec)).sum() / module(url, freqvector)) if module(url, freqvector) != 0 else (url,0) for url, vec in vec_no_rel.items()]\n",
        "ranking_RF = ranking_relevantes + ranking_no_relevantes\n",
        "ranking_RF.sort(key=lambda x: x[1], reverse=True)\n",
        "\n",
        "\n",
        "ranking_df_RF_iter = pd.DataFrame(columns = [\"docid\",  \"pos\" ,\"rel\"],  index=range(len(ranking_RF)))\n",
        "for i in range(len(ranking_RF)):\n",
        "  ranking_df_RF_iter.iloc[i] = (ranking_RF[i][0], float(i+1), float(ranking_rels[ranking_rels[\"docid\"] == ranking_RF[i][0]][\"rel\"].values[0]))\n",
        "print(f\"Ranking con relevance feedback iterado con parámetros:\\n alpha = {alpha}\\n beta = {beta}\\n gamma = {gamma}\")\n",
        "print(ranking_df_RF_iter.head(10))\n",
        "print(\"\\n__________________________\\n\")\n",
        "print(f\"prec para ranking VSM con relevance feedback iterado:{prec(ranking_df_RF_iter, 5)}\")\n",
        "print(f\"nDCG para ranking VSM con relevance feedback iterado:{nDCG_(ranking_df_RF_iter)}\")\n"
      ]
    },
    {
      "cell_type": "markdown",
      "source": [
        "Variando los parámetros de la fórmula de Rocchio se puede ver que en general son todos importantes ya que bajando cualquiera menor que 1 se obtienen peores resulados, por lo que es recomendable como se tiene en los apuntes que los parámetros de Rocchio al menos para este caso sean 1 todos.\n"
      ],
      "metadata": {
        "id": "YBMToUTqNmU8"
      }
    },
    {
      "cell_type": "markdown",
      "metadata": {
        "id": "wY06Ispgrsko"
      },
      "source": [
        "## Opcional 2.C\n",
        "\n",
        "Probar con diferentes consultas y comparar si los resultados que se obtienen son consistentes con los obtenidos usando la consulta de los primeros apartados."
      ]
    },
    {
      "cell_type": "code",
      "execution_count": null,
      "metadata": {
        "id": "aP3FrJ4ersko",
        "colab": {
          "base_uri": "https://localhost:8080/"
        },
        "outputId": "ce70fbe4-15da-42a0-f8b6-b6de1b771a5e"
      },
      "outputs": [
        {
          "output_type": "stream",
          "name": "stdout",
          "text": [
            "Ranking con VSM\n",
            "                                               docid   pos  rel\n",
            "0  https://stackoverflow.com/questions/77958376/v...   1.0  1.0\n",
            "1     https://code.visualstudio.com/docs/cpp/faq-cpp   2.0  0.0\n",
            "2  https://github.com/microsoft/vscode-cpptools/i...   3.0  0.0\n",
            "3  https://code.visualstudio.com/docs/cpp/configu...   4.0  0.0\n",
            "4  https://www.kdab.com/supercharging-vs-code-wit...   5.0  0.0\n",
            "5      https://news.ycombinator.com/item?id=22625968   6.0  2.0\n",
            "6  https://marketplace.visualstudio.com/items?ite...   7.0  0.0\n",
            "7  https://www.reddit.com/r/cpp_questions/comment...   8.0  2.0\n",
            "8                           https://clangd.llvm.org/   9.0  0.0\n",
            "9  https://medium.com/@mehmet-mert-gunduz/enhance...  10.0  2.0\n",
            "\n",
            "\n",
            "\n",
            "prec para ranking VSM:0.2\n",
            "nDCG para ranking VSM:0.6225788656327798\n",
            "\n",
            "_______________________________\n",
            "\n",
            "Ranking con relevance feedback iterado con parámetros:\n",
            " alpha = 1\n",
            " beta = 0\n",
            " gamma = 0.5\n",
            "                                               docid   pos  rel\n",
            "0  https://www.reddit.com/r/cpp_questions/comment...   1.0  2.0\n",
            "1  https://medium.com/@mehmet-mert-gunduz/enhance...   2.0  2.0\n",
            "2                           https://clangd.llvm.org/   3.0  0.0\n",
            "3  https://marketplace.visualstudio.com/items?ite...   4.0  0.0\n",
            "4      https://news.ycombinator.com/item?id=22625968   5.0  2.0\n",
            "5  https://www.kdab.com/supercharging-vs-code-wit...   6.0  0.0\n",
            "6  https://code.visualstudio.com/docs/cpp/configu...   7.0  0.0\n",
            "7     https://code.visualstudio.com/docs/cpp/faq-cpp   8.0  0.0\n",
            "8  https://stackoverflow.com/questions/77958376/v...   9.0  1.0\n",
            "9  https://github.com/microsoft/vscode-cpptools/i...  10.0  0.0\n",
            "\n",
            "\n",
            "\n",
            "prec para ranking VSM con relevance feedback iterado:0.6\n",
            "nDCG para ranking VSM con relevance feedback iterado:0.924147424123437\n"
          ]
        }
      ],
      "source": [
        "# TODO\n",
        "#Probar con otras búsquedas\n",
        "q = \"vscode-clangd vs intellisense\"\n",
        "qid = 4\n",
        "urls = ranking_rels[(ranking_rels[\"qid\"] == qid) & (ranking_rels[\"system\"] == \"google\")][\"docid\"]\n",
        "\n",
        "\n",
        "\n",
        "urls = urls.values\n",
        "valid_url = []\n",
        "texts = []\n",
        "for url in urls:\n",
        "  try:\n",
        "    response = requests.get(url)\n",
        "    texts.append(BeautifulSoup(response.content, \"lxml\").text.lower())\n",
        "    valid_url.append(url)\n",
        "  except:\n",
        "    print(f\"La url: {url} no es accesible\")\n",
        "\n",
        "\n",
        "stoplist = [\"also\", \"could\", \"p\", \"pp\", \"th\", \"however\", \"one\", \"two\", \"many\", \"i\", \"de\", \"la\", \"me\", \"my\", \"myself\", \"the\", \"we\", \"our\", \"ours\", \"ourselves\", \"you\", \"your\", \"yours\", \"yourself\", \"yourselves\", \"he\", \"him\", \"his\", \"himself\", \"she\", \"her\", \"hers\", \"herself\", \"it\", \"its\", \"itself\", \"they\", \"them\", \"their\", \"theirs\", \"themselves\", \"what\", \"which\", \"who\", \"whom\", \"this\", \"that\", \"these\", \"those\", \"am\", \"is\", \"are\", \"was\", \"were\", \"be\", \"been\", \"being\", \"have\", \"has\", \"had\", \"having\", \"do\", \"does\", \"did\", \"doing\", \"a\", \"an\", \"the\", \"and\", \"but\", \"if\", \"or\", \"because\", \"as\", \"until\", \"while\", \"of\", \"at\", \"by\", \"for\", \"with\", \"about\", \"against\", \"between\", \"into\", \"through\", \"during\", \"before\", \"after\", \"above\", \"below\", \"to\", \"from\", \"up\", \"down\", \"in\", \"out\", \"on\", \"off\", \"over\", \"under\", \"again\", \"further\", \"then\", \"once\", \"here\", \"there\", \"when\", \"where\", \"why\", \"how\", \"all\", \"any\", \"both\", \"each\", \"few\", \"more\", \"most\", \"other\", \"some\", \"such\", \"no\", \"nor\", \"not\", \"only\", \"own\", \"same\", \"so\", \"than\", \"too\", \"very\", \"s\", \"t\", \"can\", \"will\", \"just\", \"don\", \"should\", \"now\"]\n",
        "\n",
        "\n",
        "freqvector = {url:Counter([word for word in re.findall(r\"[^\\W\\d_]+|\\d+\", text) if word not in stoplist]) for url, text in zip(valid_url, texts)}\n",
        "\n",
        "# Guardamos el vocabulario (el conjunto de todas las palabras que apaercen en los documentos de la colección).\n",
        "vocabulary = set()\n",
        "for word in freqvector.values(): vocabulary.update(word)\n",
        "\n",
        "# Document frequency de cada palabra del vocabulario: nº de documentos que contienen la palabra.\n",
        "docfreqs = {word:len([url for url in freqvector if word in freqvector[url]]) for word in vocabulary}\n",
        "\n",
        "# Frecuencia total para cada palabra del vocabulario: nº total de apariciones en la colección.\n",
        "wordfreqs = {word:sum([freqvector[url][word] for url in freqvector if word in freqvector[url]]) for word in vocabulary}\n",
        "\n",
        "modelo = VSM(freqvector, docfreqs)\n",
        "\n",
        "ranking_VSM = modelo.search(tratamiento(q))\n",
        "\n",
        "relev = ranking_rels[(ranking_rels[\"qid\"] == qid) & (ranking_rels[\"system\"] == \"google\") & (ranking_rels[\"rel\"] > 0)]\n",
        "no_relev = ranking_rels[(ranking_rels[\"qid\"] == qid) & (ranking_rels[\"system\"] == \"google\") & (ranking_rels[\"rel\"] == 0)]\n",
        "\n",
        "vector_q = [idf(word,docfreqs, freqvector) if word in docfreqs.keys() else 0 for word in tratamiento(q)]\n",
        "for _ in range(3):\n",
        "  vec_rel ={}\n",
        "\n",
        "  for url in relev[\"docid\"]:\n",
        "    vec_rel[url]= [tf(word, url, freqvector) if word in freqvector[url].keys() else 0 for word in tratamiento(q)]\n",
        "\n",
        "\n",
        "  vec_no_rel = {}\n",
        "  for url in no_relev[\"docid\"]:\n",
        "    vec_no_rel[url] =[tf(word, url, freqvector) if word in freqvector[url].keys() else 0 for word in tratamiento(q)]\n",
        "\n",
        "  alpha = 1\n",
        "  beta = 0\n",
        "  gamma = 0.5\n",
        "\n",
        "  vector_q = alpha * np.array(vector_q) + beta * np.array(list(vec_rel.values())).sum(axis = 0) / len(vec_rel) - gamma * np.array(list(vec_no_rel.values())).sum(axis = 0) / len(vec_no_rel)\n",
        "\n",
        "q_new = vector_q\n",
        "\n",
        "ranking_relevantes = [(url, (q_new * np.array(vec)).sum() / module(url, freqvector)) if module(url, freqvector) != 0 else (url,0) for url, vec in vec_rel.items()]\n",
        "ranking_no_relevantes = [(url, (q_new * np.array(vec)).sum() / module(url, freqvector)) if module(url, freqvector) != 0 else (url,0) for url, vec in vec_no_rel.items()]\n",
        "ranking_RF = ranking_relevantes + ranking_no_relevantes\n",
        "ranking_RF.sort(key=lambda x: x[1], reverse=True)\n",
        "\n",
        "\n",
        "ranking_df_RF_iter = pd.DataFrame(columns = [\"docid\",  \"pos\" ,\"rel\"],  index=range(len(ranking_RF)))\n",
        "for i in range(len(ranking_RF)):\n",
        "  ranking_df_RF_iter.iloc[i] = (ranking_RF[i][0], float(i+1), float(ranking_rels[ranking_rels[\"docid\"] == ranking_RF[i][0]][\"rel\"].values[0]))\n",
        "\n",
        "ranking_df_VSM = pd.DataFrame(columns = [\"docid\",  \"pos\" ,\"rel\"],  index=range(len(ranking_VSM)))\n",
        "for i in range(len(ranking_VSM)):\n",
        "  ranking_df_VSM.iloc[i] = (ranking_VSM[i][0], float(i+1), float(ranking_rels[ranking_rels[\"docid\"] == ranking_VSM[i][0]][\"rel\"].values[0]))\n",
        "\n",
        "print(\"Ranking con VSM\")\n",
        "print(ranking_df_VSM.head(10))\n",
        "print(\"\\n\\n\")\n",
        "print(f\"prec para ranking VSM:{prec(ranking_df_VSM, 5)}\")\n",
        "print(f\"nDCG para ranking VSM:{nDCG_(ranking_df_VSM)}\")\n",
        "print(\"\\n_______________________________\\n\")\n",
        "\n",
        "print(f\"Ranking con relevance feedback iterado con parámetros:\\n alpha = {alpha}\\n beta = {beta}\\n gamma = {gamma}\")\n",
        "print(ranking_df_RF_iter.head(10))\n",
        "print(\"\\n\\n\")\n",
        "print(f\"prec para ranking VSM con relevance feedback iterado:{prec(ranking_df_RF_iter, 5)}\")\n",
        "print(f\"nDCG para ranking VSM con relevance feedback iterado:{nDCG_(ranking_df_RF_iter)}\")"
      ]
    },
    {
      "cell_type": "markdown",
      "source": [
        "Utilizando otra query del conjunto de datos utilizado se puede ver que también se consiguen mejores resultados con el uso de la fórmula de Rocchio para el relevance feedback"
      ],
      "metadata": {
        "id": "b85atLNrPPsd"
      }
    }
  ],
  "metadata": {
    "kernelspec": {
      "display_name": "Python 3",
      "name": "python3"
    },
    "language_info": {
      "codemirror_mode": {
        "name": "ipython",
        "version": 3
      },
      "file_extension": ".py",
      "mimetype": "text/x-python",
      "name": "python",
      "nbconvert_exporter": "python",
      "pygments_lexer": "ipython3",
      "version": "3.9.15"
    },
    "orig_nbformat": 4,
    "vscode": {
      "interpreter": {
        "hash": "bfae33d6b10783b975734c748bf09f75e6e28925a7d22489f3018db44a914c5e"
      }
    },
    "colab": {
      "provenance": [],
      "gpuType": "T4"
    },
    "accelerator": "GPU"
  },
  "nbformat": 4,
  "nbformat_minor": 0
}