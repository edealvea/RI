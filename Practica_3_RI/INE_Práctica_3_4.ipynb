{
  "cells": [
    {
      "cell_type": "markdown",
      "id": "395e7bb3-869e-4032-8ff7-724ea4fb99ce",
      "metadata": {
        "id": "395e7bb3-869e-4032-8ff7-724ea4fb99ce",
        "jp-MarkdownHeadingCollapsed": true,
        "tags": []
      },
      "source": [
        "## Información no Estructurada\n",
        "### Máster Universitario en Ciencia de Datos\n",
        "# Práctica 3.4 &ndash; Recomendación: factorización de matrices y deep learning\n",
        "\n",
        "### Autores: Óscar Calvet Siso y Enrique Ernesto de Alvear Doñate\n",
        "\n",
        "Esta práctica tiene por objetivo comprender el diseño de métodos de filtrado colaborativo mediante deep learning como transición desde un modelo bilineal típico de factorización de matrices hacia modelos neuronales de complejidad arbitraria.\n",
        "\n",
        "El trabajo a realizar se secuencia en los siguiented pasos:\n",
        "1. Filtrado colaborativo basado en factorización de matrices en NumPy.\n",
        "2. Repetición del mismo método pero visto como modelo neuronal en TensorFlow o PyTorch (a elegir).\n",
        "3. Ampliación del modelo introduciendo capas ocultas y/u otras variaciones.\n",
        "\n",
        "Como punto de partida se plantea en cada caso la formulación de la factorización de matrices más sencilla posible.\n",
        "\n",
        "Se proporciona gran parte del código; los dos primeros ejercicios consistirán en completar un esqueleto de código, y el tercero queda abierto a la dirección que el estudiante opte por seguir."
      ]
    },
    {
      "cell_type": "markdown",
      "id": "c8154879-e045-4258-8341-b688082f3eeb",
      "metadata": {
        "id": "c8154879-e045-4258-8341-b688082f3eeb"
      },
      "source": [
        "## 1.&nbsp; Procesamiento de datos\n",
        "\n",
        "Se facilita una clase Ratings que se ocupa de las siguientes operaciones:\n",
        "1. Lectura de datos de rating de un fichero.\n",
        "2. Preparación de datos en forma de matriz (sin preocuparnos del gasto de RAM: podrían usarse implementaciones sparse matrix para un uso más frugal de RAM y soportar conjuntos de datos más grandes).\n",
        "3. Binarización de los ratings.\n",
        "4. Partición de datos en entrenamiento y test.\n",
        "5. Duplicación redundante de los datos: matriz vs. data frame de ratings de entrenamiento, acorde con diferentes requisitos para diferentes frameworks de implementación (NumPy vs. TensorFlow / PyTorch).\n",
        "\n",
        "Se hace una implementación simplificada y directa orientada a obtener lo suficiente para los ejercicios de esta práctica, sin buscar más generalidad. Por ejemplo, todas las operaciones (incluida la partición entrenamiento/test) se realizan en el constructor y no se implementan más funciones en la clase que las estrictamente necesarias para los ejercicios y pruebas. Igualmente decidimos trabajar con ratings binarizados.\n",
        "\n",
        "Se proporcionan una líneas al final de la celda para ilustrar cómo quedan almacenados datos en diferentes subconjuntos y estructuras.\n",
        "\n",
        "El conjunto de datos `ratings.dat` está disponible en https://grouplens.org/datasets/movielens/1m."
      ]
    },
    {
      "cell_type": "code",
      "execution_count": null,
      "id": "POSwQ6mpT3da",
      "metadata": {
        "colab": {
          "base_uri": "https://localhost:8080/"
        },
        "id": "POSwQ6mpT3da",
        "outputId": "bc8ad65b-0a83-404b-bd8b-449589b459f1"
      },
      "outputs": [
        {
          "name": "stderr",
          "output_type": "stream",
          "text": [
            "\"wget\" no se reconoce como un comando interno o externo,\n",
            "programa o archivo por lotes ejecutable.\n"
          ]
        },
        {
          "name": "stderr",
          "output_type": "stream",
          "text": [
            "\"unzip\" no se reconoce como un comando interno o externo,\n",
            "programa o archivo por lotes ejecutable.\n",
            "\"mv\" no se reconoce como un comando interno o externo,\n",
            "programa o archivo por lotes ejecutable.\n"
          ]
        }
      ],
      "source": [
        "!wget https://files.grouplens.org/datasets/movielens/ml-1m.zip\n",
        "!unzip ml-1m.zip\n",
        "!mv /content/ml-1m/ratings.dat /content/"
      ]
    },
    {
      "cell_type": "code",
      "execution_count": null,
      "id": "1048e55b-531a-464d-af2e-bf125c5462be",
      "metadata": {
        "colab": {
          "base_uri": "https://localhost:8080/",
          "height": 522
        },
        "id": "1048e55b-531a-464d-af2e-bf125c5462be",
        "outputId": "d78a6ebd-ba76-4334-e721-56d9a1823edf",
        "tags": []
      },
      "outputs": [
        {
          "name": "stderr",
          "output_type": "stream",
          "text": [
            "  0%|          | 0/150 [04:19<?, ?epoch/s]\n",
            " 58%|█████▊    | 87/150 [04:07<02:59,  2.85s/epoch, loss=0.173]\n",
            "  0%|          | 0/150 [00:30<?, ?epoch/s]\n"
          ]
        },
        {
          "data": {
            "text/plain": [
              "2 users, 4 items, 5 ratings"
            ]
          },
          "metadata": {},
          "output_type": "display_data"
        },
        {
          "data": {
            "text/plain": [
              "4 training ratings, 1 test ratings"
            ]
          },
          "metadata": {},
          "output_type": "display_data"
        },
        {
          "data": {
            "text/plain": [
              "\n",
              "All ratings\n"
            ]
          },
          "metadata": {},
          "output_type": "display_data"
        },
        {
          "data": {
            "text/plain": [
              "array([[5., 3., 0., 0.],\n",
              "       [4., 0., 1., 5.]], dtype=float32)"
            ]
          },
          "metadata": {},
          "output_type": "display_data"
        },
        {
          "data": {
            "text/plain": [
              "\n",
              "Train mask\n"
            ]
          },
          "metadata": {},
          "output_type": "display_data"
        },
        {
          "data": {
            "text/plain": [
              "array([[1, 1, 0, 0],\n",
              "       [0, 0, 1, 1]])"
            ]
          },
          "metadata": {},
          "output_type": "display_data"
        },
        {
          "data": {
            "text/plain": [
              "\n",
              "Binarized training ratings\n"
            ]
          },
          "metadata": {},
          "output_type": "display_data"
        },
        {
          "data": {
            "text/plain": [
              "array([[1, 0, 0, 0],\n",
              "       [0, 0, 0, 1]])"
            ]
          },
          "metadata": {},
          "output_type": "display_data"
        },
        {
          "data": {
            "text/plain": [
              "\n",
              "Binarized test ratings\n"
            ]
          },
          "metadata": {},
          "output_type": "display_data"
        },
        {
          "data": {
            "text/plain": [
              "array([[0, 0, 0, 0],\n",
              "       [1, 0, 0, 0]])"
            ]
          },
          "metadata": {},
          "output_type": "display_data"
        },
        {
          "data": {
            "text/plain": [
              "\n",
              "Binarized training ratings as data frame\n"
            ]
          },
          "metadata": {},
          "output_type": "display_data"
        },
        {
          "data": {
            "text/html": [
              "<div>\n",
              "<style scoped>\n",
              "    .dataframe tbody tr th:only-of-type {\n",
              "        vertical-align: middle;\n",
              "    }\n",
              "\n",
              "    .dataframe tbody tr th {\n",
              "        vertical-align: top;\n",
              "    }\n",
              "\n",
              "    .dataframe thead th {\n",
              "        text-align: right;\n",
              "    }\n",
              "</style>\n",
              "<table border=\"1\" class=\"dataframe\">\n",
              "  <thead>\n",
              "    <tr style=\"text-align: right;\">\n",
              "      <th></th>\n",
              "      <th>u</th>\n",
              "      <th>i</th>\n",
              "      <th>r</th>\n",
              "    </tr>\n",
              "  </thead>\n",
              "  <tbody>\n",
              "    <tr>\n",
              "      <th>0</th>\n",
              "      <td>0</td>\n",
              "      <td>0</td>\n",
              "      <td>1</td>\n",
              "    </tr>\n",
              "    <tr>\n",
              "      <th>1</th>\n",
              "      <td>0</td>\n",
              "      <td>1</td>\n",
              "      <td>0</td>\n",
              "    </tr>\n",
              "    <tr>\n",
              "      <th>2</th>\n",
              "      <td>1</td>\n",
              "      <td>2</td>\n",
              "      <td>0</td>\n",
              "    </tr>\n",
              "    <tr>\n",
              "      <th>3</th>\n",
              "      <td>1</td>\n",
              "      <td>3</td>\n",
              "      <td>1</td>\n",
              "    </tr>\n",
              "  </tbody>\n",
              "</table>\n",
              "</div>"
            ],
            "text/plain": [
              "   u  i  r\n",
              "0  0  0  1\n",
              "1  0  1  0\n",
              "2  1  2  0\n",
              "3  1  3  1"
            ]
          },
          "metadata": {},
          "output_type": "display_data"
        }
      ],
      "source": [
        "import pandas as pd\n",
        "import numpy as np\n",
        "\n",
        "# We cast rating data as 1 for ratings >= threshold (4 by default), and zero for lower vaues or missing ratings.\n",
        "class Ratings:\n",
        "    def __init__(self, file, sep=',', split_ratio=.8, threshold=4):\n",
        "        df = pd.read_csv(file, names=['u', 'i', 'r', 't'], sep=sep, engine='python')\n",
        "        # Restructure the ratings data into ratings matrix form - and we forget about the original user and item ids: we assign them an incremental int.\n",
        "        self.ratings_matrix = df.pivot(index='u', columns='i', values='r').fillna(0).to_numpy(dtype=np.float32)\n",
        "        self.nusers, self.nitems = self.ratings_matrix.shape\n",
        "        # Split the data already.\n",
        "        self.split(split_ratio, threshold)\n",
        "\n",
        "    def split(self, split_ratio, threshold):\n",
        "        # Split and remember train mask (before binarizing ratings).\n",
        "        split_mask = np.random.choice([1, 0], p=[split_ratio, 1-split_ratio], size=self.ratings_matrix.shape)\n",
        "        # With train_mask we remember which are the training ratings, including values below the relevance threshold,\n",
        "        # since threshold-based binarization will produce zeros for both non-relevant items and missing ratings and\n",
        "        # we may want to distinguish non-relevant from missing.\n",
        "        self.train_mask = (self.ratings_matrix > 0) * split_mask\n",
        "        self.ntrain = self.train_mask.sum()\n",
        "        # Redundantly copy training into df form for use in Keras and PyTorch.\n",
        "        self.train_df = matrix_to_df(self.ratings_matrix * split_mask, threshold)\n",
        "        # Binarize: 1 for relevant above the threshold, 0 for non-relevant below (note: now rating = 0 for both negative and missing user preferences).\n",
        "        binarized_ratings_matrix = self.ratings_matrix >= threshold\n",
        "        # Create train & test matrices\n",
        "        self.train_matrix, self.test_matrix = binarized_ratings_matrix * split_mask, binarized_ratings_matrix * (1 - split_mask)\n",
        "\n",
        "def matrix_to_df(ratings_matrix, threshold):\n",
        "    df = pd.DataFrame(columns=np.arange(ratings_matrix.shape[1], dtype=np.int32),\n",
        "                      index=np.arange(ratings_matrix.shape[0], dtype=np.int32),\n",
        "                      data=ratings_matrix).unstack().reset_index(name='r')\n",
        "    df.columns = ['i', 'u', 'r']\n",
        "    df = df[df.r>0][['u', 'i', 'r']].sort_values(by=['u', 'i'], ignore_index=True)\n",
        "    df.r = (df.r >= threshold).astype(int)\n",
        "    return df\n",
        "\n",
        "# We read the ratings file already - we'll use in the following cells in different MF implementations.\n",
        "np.random.seed(0) # Seed the random split for comparability and debugging.)\n",
        "ratings = Ratings('ratings.dat', sep='::', threshold=4)\n",
        "\n",
        "get_ipython().display_formatter.formatters['text/plain'].for_type(str, lambda s, p, c: p.text(s))\n",
        "\n",
        "# A small example to get an idea of how the rating data structures are organized.\n",
        "pd.DataFrame(data=[['u', 'i', 5], ['u', 'j', 3],\n",
        "                   ['v', 'i', 4], ['v', 'k', 1], ['v', 'l', 5]])\\\n",
        "    .to_csv('toy.csv', index=False, header=False)\n",
        "toy = Ratings('toy.csv', threshold=4)\n",
        "display(f'{toy.nusers} users, {toy.nitems} items, {(toy.ratings_matrix > 0).sum()} ratings')\n",
        "display(f'{toy.ntrain} training ratings, {(toy.ratings_matrix > 0).sum() - toy.ntrain} test ratings')\n",
        "display('\\nAll ratings\\n', toy.ratings_matrix)\n",
        "display('\\nTrain mask\\n', toy.train_mask)\n",
        "display('\\nBinarized training ratings\\n', toy.train_matrix)\n",
        "display('\\nBinarized test ratings\\n', toy.test_matrix)\n",
        "display('\\nBinarized training ratings as data frame\\n', toy.train_df)"
      ]
    },
    {
      "cell_type": "markdown",
      "id": "0a91fce1-d153-44d3-a338-de6252f9a48a",
      "metadata": {
        "id": "0a91fce1-d153-44d3-a338-de6252f9a48a"
      },
      "source": [
        "## 2.&nbsp; Métricas y traza de entrenamiento\n",
        "\n",
        "Se facilitan aquí:\n",
        "* Dos métricas ya implementadas para evaluar recomendaciones sobre datos de test (usaremos primariamente P@10 pero se puede igualmente probar recall).\n",
        "* Funciones para visualizar las traza de error de entrenamiento y métricas de test del proceso de entrenamiento."
      ]
    },
    {
      "cell_type": "code",
      "execution_count": null,
      "id": "1ec54487-5a28-4b54-be7e-711aee7c3014",
      "metadata": {
        "id": "1ec54487-5a28-4b54-be7e-711aee7c3014"
      },
      "outputs": [],
      "source": [
        "import matplotlib.pyplot as pt\n",
        "\n",
        "# Plot the whole training trace.\n",
        "def plot(train_errors, test_metrics=None, metric_name=['Precision', 'Test P@10']):\n",
        "    l1 = pt.plot(range(len(train_errors)), train_errors, linewidth=.7, label='Training cost', c='blue')\n",
        "    pt.ylabel('MSE')\n",
        "    pt.xlabel('Epoch')\n",
        "    if test_metrics:\n",
        "        ax = pt.gca().twinx()\n",
        "        l2 = ax.plot(range(len(test_metrics)), test_metrics, linewidth=.7, label=metric_name[1], c='tab:red')\n",
        "        ax.set_ylabel(metric_name[0])\n",
        "        pt.legend(l1+l2, [l.get_label() for l in l1+l2])\n",
        "    else: pt.legend()\n",
        "\n",
        "# Print train/test error/metric for one epoch.\n",
        "def trace(epoch, start, train_error, test_metric=None, metric_name=None):\n",
        "    if test_metric:\n",
        "        print(f'\\rTraining model --> Epochs: {epoch+1}  Training error: {train_error}  Test {metric_name}: {test_metric} \\033[94m[{datetime.timedelta(seconds=round(time.time() - start))}]\\033[0m', end='                        ')\n",
        "    else:\n",
        "        print(f'\\rTraining model --> Epochs: {epoch+1}  Training error: {train_error}  \\033[94m[{datetime.timedelta(seconds=round(time.time() - start))}]\\033[0m', end='                        ')\n",
        "\n",
        "def precision(score_matrix, test_matrix, cutoff):\n",
        "    pos = np.sort(np.argpartition(score_matrix, -cutoff)[:, -cutoff:], axis=1)[:, ::-1]\n",
        "    hits = np.array([t[p[0:min(cutoff, len(p))]] for t, p in zip(test_matrix, pos)])\n",
        "    return hits.sum() / cutoff / test_matrix.shape[0]\n",
        "\n",
        "def recall(score_matrix, test_matrix, cutoff):\n",
        "    pos = np.sort(np.argpartition(score_matrix, -cutoff)[:, -cutoff:], axis=1)[:, ::-1]\n",
        "    user_relevants = test_matrix.sum(axis=1)\n",
        "    user_relevants[user_relevants==0] = 1\n",
        "    hits = np.array([t[p[0:min(cutoff, len(p))]] for t, p in zip(test_matrix, pos)]).sum(axis=1) / user_relevants\n",
        "    return hits.mean()"
      ]
    },
    {
      "cell_type": "markdown",
      "id": "17cfb31c-5231-48bd-a683-f27dfbe1dc23",
      "metadata": {
        "id": "17cfb31c-5231-48bd-a683-f27dfbe1dc23",
        "tags": []
      },
      "source": [
        "## 3.&nbsp; Factorización de matrices: implementación vectorizada\n",
        "\n",
        "Primera implementación: factorización básica con vectorización en NumPy.\n",
        "\n",
        "### Ejercicio\n",
        "\n",
        "Completar los huecos marcados con `# Your code here...`.\n",
        "\n",
        "Sugerencia: implementar *full batch gradient descent*, es decir utilizar todas las celdas de la matriz de ratings (celdas vacías incluidas a modo de \"muestras negativas\") como datos de entrenamiento en cada época."
      ]
    },
    {
      "cell_type": "code",
      "execution_count": null,
      "id": "d29a0dd7-165b-43f1-b9ff-d90c8fb59c4a",
      "metadata": {
        "colab": {
          "base_uri": "https://localhost:8080/",
          "height": 466
        },
        "id": "d29a0dd7-165b-43f1-b9ff-d90c8fb59c4a",
        "outputId": "61fcce4f-4168-4e61-a52b-f8009612a549"
      },
      "outputs": [
        {
          "name": "stdout",
          "output_type": "stream",
          "text": [
            "Training model --> Epochs: 250  Training error: 0.014192240071422665  Test P@10: 0.2812086092715232 \u001b[94m[0:04:40]\u001b[0m                         \n"
          ]
        },
        {
          "data": {
            "image/png": "[encoded data removed]",
            "text/plain": [
              "<Figure size 640x480 with 2 Axes>"
            ]
          },
          "metadata": {},
          "output_type": "display_data"
        }
      ],
      "source": [
        "import time, datetime\n",
        "\n",
        "# For simplicity, we just train the model as we create the model object. And we keep the rating data as a variable\n",
        "# in the model object.\n",
        "class MF():\n",
        "    def __init__(self, ratings, k=50, lrate=.001, nepochs=250, test_tracking=True, lambda_ = 0.0):\n",
        "        self.ratings = ratings\n",
        "        self.test_tracking = test_tracking\n",
        "        self.lambda_ = lambda_\n",
        "        self.train(k, lrate, nepochs)\n",
        "\n",
        "\n",
        "    # The scoring function.\n",
        "    def predict(self):\n",
        "        return self.user_mat @ self.item_mat.T #Se multiplica la matriz de usuarios por la de items\n",
        "\n",
        "    # Initialize the model parameters.\n",
        "    def init(self, k):#Vamos a inicializar de forma aleatoria las matrices de usuarios e items\n",
        "      self.user_mat = np.random.normal(scale = 1/self.ratings.nusers ,size=(self.ratings.nusers, k))\n",
        "      self.item_mat = np.random.normal(scale = 1/self.ratings.nitems ,size=(self.ratings.nitems,k))\n",
        "      self.scores_ = self.predict() #Calculamos los scores\n",
        "\n",
        "\n",
        "    # Train the model (learn the model parameters).\n",
        "    def train(self, k, lrate, nepochs):\n",
        "        start_time = time.time()\n",
        "        self.init(k)\n",
        "        self.train_errors, self.test_metrics = [], []\n",
        "\n",
        "        # Training loop.\n",
        "        for epoch in range(nepochs):\n",
        "            # Gradient descent steps: model parameters' update.\n",
        "            # Your code here... (hint: can be done in 3-4 lines).\n",
        "            err = self.ratings.train_matrix - self.scores_\n",
        "            grad_item, grad_user = err.T @ self.user_mat, err @ self.item_mat\n",
        "            #que hacemos con lambda\n",
        "            self.user_mat += lrate*(grad_user - self.lambda_ * self.user_mat)\n",
        "            self.item_mat += lrate*(grad_item - self.lambda_ * self.item_mat)\n",
        "            # Produce training trace for inspection.\n",
        "            train_error = (err**2).mean()\n",
        "            self.train_errors.append(train_error)\n",
        "            # We make precision tracking optional as it can be time-consuming.\n",
        "            self.scores_ = self.predict()\n",
        "            if self.test_tracking:\n",
        "                test_metric = precision(self.scores(), self.ratings.test_matrix, 10)\n",
        "                self.test_metrics.append(test_metric)\n",
        "                trace(epoch, start_time, train_error, test_metric, 'P@10')\n",
        "            else: trace(epoch, start_time, train_error)\n",
        "        print()\n",
        "\n",
        "        # If we're not tracking test metrics at least we report it at the end.\n",
        "        if not self.test_tracking: trace(epoch, start_time, train_error,\n",
        "                                         precision(self.scores(), self.ratings.test_matrix, 10), 'P@10')\n",
        "\n",
        "    # Warning: you don't need to use this function -- it's used only for computing precision on test data.\n",
        "    # Just remove from the prediction scores the matrix cells where there is a training rating: we assume\n",
        "    # we don't want to recommend stuff the user has already rated, as is most often the case in recommender\n",
        "    # system applications.\n",
        "    def scores(self): return self.scores_ * (1 - ratings.train_mask)\n",
        "\n",
        "# Create the model - this will directly trigger training.\n",
        "np.random.seed(0) # For comparability and debugging (the randomness here is in parameter initialization).\n",
        "mf = MF(ratings, lrate=.001, nepochs=250)\n",
        "\n",
        "# Plot the training error and test metric trace.\n",
        "plot(mf.train_errors, mf.test_metrics)"
      ]
    },
    {
      "cell_type": "markdown",
      "id": "c04b2b7a-7c8c-4f0d-88e5-14b404301e33",
      "metadata": {
        "id": "c04b2b7a-7c8c-4f0d-88e5-14b404301e33"
      },
      "source": [
        "## 4.&nbsp; Factorización de matrices: modelo deep learning &ndash; opción a) TensorFlow\n",
        "\n",
        "Reformulación de la factorización de matrices como caso particular \"degenerado\" de arquitectura neuronal.\n",
        "\n",
        "### Ejercicio\n",
        "\n",
        "Completar los huecos marcados con `# Your code here...`.\n",
        "\n",
        "Observaciones:\n",
        "* Por la estructura de datos de entrenamiento que maneja TensorFlow, entrenar con toda la matriz de ratings (incluyendo todas las celdas sin dato) es demasiado costoso. Por ello se tomará una muestra pequeña de ejemlos negativos en cada época.\n",
        "* En el esqueleto que aquí se proporciona, no se genera la traza (curva) de P@10 durante el entrenamiento ya que no encaja fácilmente en el API Keras de TensorFlow."
      ]
    },
    {
      "cell_type": "code",
      "execution_count": null,
      "id": "69ea47ec-675e-48f5-a410-0cf9758601aa",
      "metadata": {
        "colab": {
          "base_uri": "https://localhost:8080/",
          "height": 863,
          "referenced_widgets": [
            "6d89a071bddb42d8b770814300653077",
            "525d58926dd249d8ade87bbadcf582c4",
            "976ff8fb3c064fedb7befc3d5964f177",
            "aa03c735004a47f89963a00d56e16324",
            "30be9e0e957a46139409dafc26350e00",
            "354bf8384e144ff59424ca81958cae4e",
            "85d5e7cd81fe4e84aab02150083841f6",
            "001730c83593418ab915aa69ed13376a",
            "82cdd8240b9b4983953a8e42bd4a2411",
            "4c1374fa2d8e410f838bca4d219d56fb",
            "354d35b80b424087abaa13ebad4d75cf"
          ]
        },
        "id": "69ea47ec-675e-48f5-a410-0cf9758601aa",
        "outputId": "86c024d7-497d-4755-98bc-2b2d9720f8c0",
        "tags": []
      },
      "outputs": [
        {
          "name": "stdout",
          "output_type": "stream",
          "text": [
            "Model: \"model_2\"\n",
            "__________________________________________________________________________________________________\n",
            " Layer (type)                Output Shape                 Param #   Connected to                  \n",
            "==================================================================================================\n",
            " input_5 (InputLayer)        [(None,)]                    0         []                            \n",
            "                                                                                                  \n",
            " input_6 (InputLayer)        [(None,)]                    0         []                            \n",
            "                                                                                                  \n",
            " embedding_4 (Embedding)     (None, 50)                   302000    ['input_5[0][0]']             \n",
            "                                                                                                  \n",
            " embedding_5 (Embedding)     (None, 50)                   185300    ['input_6[0][0]']             \n",
            "                                                                                                  \n",
            " dot_2 (Dot)                 (None, 1)                    0         ['embedding_4[0][0]',         \n",
            "                                                                     'embedding_5[0][0]']         \n",
            "                                                                                                  \n",
            "==================================================================================================\n",
            "Total params: 487300 (1.86 MB)\n",
            "Trainable params: 487300 (1.86 MB)\n",
            "Non-trainable params: 0 (0.00 Byte)\n",
            "__________________________________________________________________________________________________\n"
          ]
        },
        {
          "name": "stderr",
          "output_type": "stream",
          "text": [
            "100%|██████████| 150/150 [05:11<00:00,  2.08s/epoch, loss=0.0559]\n"
          ]
        },
        {
          "name": "stdout",
          "output_type": "stream",
          "text": [
            "38/38 [==============================] - 4s 76ms/step\n",
            "Training model --> Epochs: 151  Training error: 0.055914804339408875  Test P@10: 0.23314569536423843 \u001b[94m[0:05:20]\u001b[0m                        "
          ]
        },
        {
          "data": {
            "image/png": "[encoded data removed]",
            "text/plain": [
              "<Figure size 640x480 with 1 Axes>"
            ]
          },
          "metadata": {},
          "output_type": "display_data"
        }
      ],
      "source": [
        "import tensorflow as tf\n",
        "from tqdm.keras import TqdmCallback\n",
        "import time, datetime, IPython\n",
        "\n",
        "# See the file 'tf-model.png' that was generated with a solution to this exercise - when you run\n",
        "# your own implementation, you will get your own plot.\n",
        "def create_model(k=50, lrate=.01, neg=4, nepochs=150):\n",
        "    # 'users' is an input layer of type tf.int64.\n",
        "    users = tf.keras.layers.Input(shape = (), dtype = tf.int64)\n",
        "    user_embeddings = tf.keras.layers.Embedding(ratings.nusers, k, embeddings_initializer = tf.keras.initializers.RandomNormal(stddev = 1/ratings.nusers))(users)\n",
        "    # 'items' is an input layer of type tf.int64.\n",
        "    items = tf.keras.layers.Input(shape = (), dtype = tf.int64)\n",
        "    item_embeddings = tf.keras.layers.Embedding(ratings.nitems, k, embeddings_initializer = tf.keras.initializers.RandomNormal(stddev = 1/ratings.nitems))(items)\n",
        "    # TensorFlow has a built-in dot-product layer.\n",
        "    dot = tf.keras.layers.Dot(axes = 1)([user_embeddings, item_embeddings])\n",
        "    # Now we need a generic model that wraps up the \"network\", specifying the input and output layers.\n",
        "    tf_mf = tf.keras.Model(inputs = [users, items], outputs = dot)\n",
        "    # Compile the model: Adam optimizer is suggested here over SGD.\n",
        "    # Your code here...\n",
        "    tf_mf.compile(optimizer = tf.keras.optimizers.Adam(learning_rate = lrate), loss = \"MSE\")\n",
        "\n",
        "    # Show the model topology - a plot will be produced in a file 'tf-model.png'.\n",
        "    tf_mf.summary()\n",
        "    tf.keras.utils.plot_model(tf_mf, to_file='tf-model.png', show_shapes=True, dpi=150)\n",
        "\n",
        "    hist = train_model(tf_mf, neg, nepochs)\n",
        "    return tf_mf, hist\n",
        "\n",
        "def train_model(tf_mf, neg, nepochs):\n",
        "    # We inject 'neg' negative samples for every available rating in the training data\n",
        "    nneg = neg * ratings.ntrain\n",
        "    users = np.concatenate((ratings.train_df.u, np.random.randint(ratings.nusers, size=nneg)))\n",
        "    items = np.concatenate((ratings.train_df.i, np.random.randint(ratings.nitems, size=nneg)))\n",
        "    rs = ratings.train_matrix[users, items]\n",
        "    batch_size = ratings.ntrain + nneg # Single batch with all the data at once.\n",
        "\n",
        "    hist = tf_mf.fit([users, items], rs, batch_size = batch_size, epochs = nepochs, callbacks=[TqdmCallback(verbose=0)], verbose = 0) # Produces a prettier progress bar.\n",
        "    return hist\n",
        "\n",
        "# Create the model - this will directly trigger training.\n",
        "tf.random.set_seed(0) # For comparability and debugging (the randomness here is in parameter initialization).\n",
        "start_time = time.time()\n",
        "tf_mf, hist = create_model(k=50, lrate=.01, nepochs=150)\n",
        "\n",
        "# Plot the training error and report the test metric value (P@10).\n",
        "\n",
        "plot(hist.history['loss'])\n",
        "\n",
        "uexplode = np.full((ratings.nitems, ratings.nusers), np.arange(ratings.nusers)).T.flatten()\n",
        "iexplode = np.full((ratings.nusers, ratings.nitems), np.arange(ratings.nitems)).flatten()\n",
        "scores = tf_mf.predict([uexplode, iexplode], batch_size=ratings.nusers*100,\n",
        "                       verbose=1).reshape(ratings.nusers, ratings.nitems)\n",
        "p = precision(scores*(1-ratings.train_mask), ratings.test_matrix, 10)\n",
        "trace(hist.params['epochs'], start_time, hist.history['loss'][-1], p, 'P@10')"
      ]
    },
    {
      "cell_type": "markdown",
      "id": "5db73676-3295-4d60-9b17-a8ef52d754a2",
      "metadata": {
        "id": "5db73676-3295-4d60-9b17-a8ef52d754a2"
      },
      "source": [
        "## 4.&nbsp; Factorización de matrices: modelo deep learning &ndash; opción b) PyTorch\n",
        "\n",
        "Reformulación de la factorización de matrices como caso particular \"degenerado\" de arquitectura neuronal.\n",
        "\n",
        "### Ejercicio\n",
        "\n",
        "Completar los huecos marcados con `# Your code here...`.\n",
        "\n",
        "Observaciones:\n",
        "* Por motivos de la estructura de datos de entrenamiento que maneja PyTorch, entrenar con toda la matriz de ratings es demasiado costoso. Por ello se tomará una muestra pequeña de ejemlos negativos en cada época.\n",
        "* En el esqueñeto que aquí se facilita sí se genera la traza (curva) de P@10 durante el entrenamiento, ya que el profesor ha encontrado un \"bypass\" razonable para hacerlo sin excesiva ralentización del entrenamiento."
      ]
    },
    {
      "cell_type": "code",
      "execution_count": null,
      "id": "1f9628a3-29cd-46d8-9014-62df72604ac0",
      "metadata": {
        "id": "1f9628a3-29cd-46d8-9014-62df72604ac0",
        "tags": []
      },
      "outputs": [],
      "source": [
        "# import torch\n",
        "# from torch import nn\n",
        "# import torch.nn.functional as F\n",
        "# from matplotlib import pyplot as plt\n",
        "# from torchviz import make_dot\n",
        "# import time, datetime\n",
        "\n",
        "# # Different from TensorFlow, PyTorch doesn't have a Dot layer, so we have to implement it ourselves.\n",
        "# # You can check out a plot of the model topology in file 'torch-model.png' generated with a solution to this\n",
        "# # exercise - when you run your own implementation, you will get your own plot.\n",
        "# class Dot(torch.nn.Module):\n",
        "#     def __init__(self, ratings, k=50, lr=.01, neg=4, nepochs=150, test_tracking=False):\n",
        "#         super().__init__()\n",
        "#         self.ratings = ratings\n",
        "#         self.lr = lr\n",
        "#         self.neg = neg\n",
        "#         self.nepochs = nepochs\n",
        "#         self.test_tracking = test_tracking\n",
        "\n",
        "#         self.user_embeddings = # Your code here...\n",
        "#         self.item_embeddings = # Your code here...\n",
        "#         self.train()\n",
        "\n",
        "#     def forward(self, users, items):\n",
        "#         return # Your code here... (hint: can be done in one line).\n",
        "\n",
        "#     # Initialize the embeddings layers.\n",
        "#     def init(self):\n",
        "#         # Your code here...\n",
        "\n",
        "#     def train(self):\n",
        "#         start_time = time.time()\n",
        "#         loss_fn = # Your code here...\n",
        "#         # Adam optimizer is suggested here over SGD.\n",
        "#         optimizer = # Your code here...\n",
        "#         self.init()\n",
        "\n",
        "#         self.train_errors, self.test_metrics = [], []\n",
        "#         for epoch in range(self.nepochs):\n",
        "#             optimizer.zero_grad()\n",
        "\n",
        "#             # We inject 'neg' negative samples for every available rating in the training data.\n",
        "#             nneg = self.neg * self.ratings.ntrain\n",
        "#             users = np.concatenate((self.ratings.train_df.u, np.random.randint(self.ratings.nusers, size=nneg)))\n",
        "#             items = np.concatenate((self.ratings.train_df.i, np.random.randint(self.ratings.nitems, size=nneg)))\n",
        "#             rs = torch.tensor(self.ratings.train_matrix[users, items], dtype=torch.float32)\n",
        "\n",
        "#             # Call the loss function on users, items, rs.\n",
        "#             loss = # Your code here...\n",
        "\n",
        "#             # Backprop + optimization step\n",
        "#             # Your code here...\n",
        "\n",
        "#             # Produce training trace for inspection.\n",
        "#             self.train_errors.append(loss.item())\n",
        "#             # We make precision tracking optional as it is time-consuming.\n",
        "#             if self.test_tracking:\n",
        "#                 test_metric = precision(self.scores_matrix() * (1-ratings.train_mask), self.ratings.test_matrix, 10)\n",
        "#                 self.test_metrics.append(test_metric)\n",
        "#                 trace(epoch, start_time, loss.item(), test_metric, 'P@10')\n",
        "#             else: trace(epoch, start_time, loss.item())\n",
        "#         print()\n",
        "#         # If we're not tracking test metrics at least we report it at the end.\n",
        "#         if not self.test_tracking: trace(epoch, start_time, train_error,\n",
        "#                                          precision(self.scores_matrix() * (1-ratings.train_mask), self.ratings.test_matrix, 10), 'P@10')\n",
        "\n",
        "#     # Warning: do not call this function.\n",
        "#     # It is just intended to compute test metrics fast by computing the full score matrix at every epoch, bypassing the forward method.\n",
        "#     # The speed difference is dramatic because ranking metric computaiton requires the entire ragings matrix, while forward takes uids\n",
        "#     # and iids in record format and involves a crazy spend of memory and compute time.\n",
        "#     # Detach bacause we don't want gradient tracking here.\n",
        "#     def scores_matrix(self): return (self.user_embeddings.weight @ self.item_embeddings.weight.T).detach()\n",
        "\n",
        "# # Create the model - this will directly trigger training.\n",
        "# torch.manual_seed(0) # For comparability and debugging (the randomness here is in parameter initialization).\n",
        "# torch_mf = Dot(ratings, lr=.01, neg=4, k=50, nepochs=150, test_tracking=True)\n",
        "\n",
        "# # Plot the training error and test metric trace.\n",
        "# plot(torch_mf.train_errors, torch_mf.test_metrics)\n",
        "\n",
        "# # Show the model topology\n",
        "# make_dot(torch_mf([0, 0], [1, 2]))"
      ]
    },
    {
      "cell_type": "markdown",
      "id": "7c546ff7-892d-40d2-82e2-5d851fa3c995",
      "metadata": {
        "id": "7c546ff7-892d-40d2-82e2-5d851fa3c995",
        "tags": []
      },
      "source": [
        "## 5.&nbsp; Ampliación\n",
        "\n",
        "### Ejercicio\n",
        "\n",
        "Explorar variaciones sobre una o varias de las implementaciones anteriores, tales como:\n",
        "* Diferentes funciones de scoring pérdida: sigmoide / BCE loss, BCE loss with logits. <---\n",
        "* Diferentes optimizadores y configuraciones de los mismos (SGD, Adam, etc.). <---\n",
        "* Variaciones en los hiperparámetros y configuración del modelo: learning rate, número de factores k, número de épocas, inicialización de parámetros del modelo, etc. <---\n",
        "* Muestreo negativo: diferente número de ejemplos negativos.\n",
        "* Añadir opciones tales como regularización, dropout, etc. <-----\n",
        "* Variaciones del modelo: términos de bias (usuario/item/global), ponderaciones de datos (p.e. ver modelo sencillo \"*confidence weight*\" de Hu, Koren & Volinsky), etc.\n",
        "* Añadir capas ocultas en la implementación sobre framework de deep learning. <-----\n",
        "* Explorar una formulación *pairwise learning to rank* sobre MF (p.e. BPR).\n",
        "* Probar otros modelos de factorización de matrices.\n",
        "\n",
        "Idealmente estas variaciones buscan mejorar la precisión de la recomendación, pero se valorarán intentos interesantes aunque resulten fallidos en ese aspecto."
      ]
    },
    {
      "cell_type": "markdown",
      "id": "2cec97d1",
      "metadata": {
        "id": "2cec97d1"
      },
      "source": [
        "**Uso de otro optimizador**"
      ]
    },
    {
      "cell_type": "code",
      "execution_count": null,
      "id": "5b39c6df",
      "metadata": {
        "id": "5b39c6df",
        "outputId": "4c677217-4fbe-44db-d9e6-1588beb2f1f4"
      },
      "outputs": [
        {
          "name": "stderr",
          "output_type": "stream",
          "text": [
            "c:\\Users\\ENRIQ\\AppData\\Local\\Programs\\Python\\Python311\\Lib\\site-packages\\tqdm\\auto.py:21: TqdmWarning: IProgress not found. Please update jupyter and ipywidgets. See https://ipywidgets.readthedocs.io/en/stable/user_install.html\n",
            "  from .autonotebook import tqdm as notebook_tqdm\n"
          ]
        },
        {
          "name": "stdout",
          "output_type": "stream",
          "text": [
            "Model: \"model\"\n",
            "__________________________________________________________________________________________________\n",
            " Layer (type)                Output Shape                 Param #   Connected to                  \n",
            "==================================================================================================\n",
            " input_1 (InputLayer)        [(None,)]                    0         []                            \n",
            "                                                                                                  \n",
            " input_2 (InputLayer)        [(None,)]                    0         []                            \n",
            "                                                                                                  \n",
            " embedding (Embedding)       (None, 50)                   302000    ['input_1[0][0]']             \n",
            "                                                                                                  \n",
            " embedding_1 (Embedding)     (None, 50)                   185300    ['input_2[0][0]']             \n",
            "                                                                                                  \n",
            " dot (Dot)                   (None, 1)                    0         ['embedding[0][0]',           \n",
            "                                                                     'embedding_1[0][0]']         \n",
            "                                                                                                  \n",
            "==================================================================================================\n",
            "Total params: 487300 (1.86 MB)\n",
            "Trainable params: 487300 (1.86 MB)\n",
            "Non-trainable params: 0 (0.00 Byte)\n",
            "__________________________________________________________________________________________________\n"
          ]
        },
        {
          "name": "stderr",
          "output_type": "stream",
          "text": [
            "100%|██████████| 150/150 [02:50<00:00,  1.14s/epoch, loss=0.131]\n"
          ]
        },
        {
          "name": "stdout",
          "output_type": "stream",
          "text": [
            "38/38 [==============================] - 2s 39ms/step\n",
            "Training model --> Epochs: 151  Training error: 0.13137541711330414  Test P@10: 0.005298013245033113 \u001b[94m[0:02:54]\u001b[0m                        "
          ]
        },
        {
          "data": {
            "image/png": "[encoded data removed]",
            "text/plain": [
              "<Figure size 640x480 with 1 Axes>"
            ]
          },
          "metadata": {},
          "output_type": "display_data"
        }
      ],
      "source": [
        "import tensorflow as tf\n",
        "from tqdm.keras import TqdmCallback\n",
        "import time, datetime, IPython\n",
        "\n",
        "# See the file 'tf-model.png' that was generated with a solution to this exercise - when you run\n",
        "# your own implementation, you will get your own plot.\n",
        "def create_model(k=50, lrate=.01, neg=4, nepochs=150):\n",
        "    # 'users' is an input layer of type tf.int64.\n",
        "    users = tf.keras.layers.Input(shape = (), dtype = tf.int64)\n",
        "    user_embeddings = tf.keras.layers.Embedding(ratings.nusers, k, embeddings_initializer = tf.keras.initializers.RandomNormal(stddev = 1/ratings.nusers))(users) # Your code here...\n",
        "    # 'items' is an input layer of type tf.int64.\n",
        "    items = tf.keras.layers.Input(shape = (), dtype = tf.int64)\n",
        "    item_embeddings = tf.keras.layers.Embedding(ratings.nitems, k, embeddings_initializer = tf.keras.initializers.RandomNormal(stddev = 1/ratings.nitems))(items)\n",
        "    # TensorFlow has a built-in dot-product layer.\n",
        "    dot = tf.keras.layers.Dot(axes = 1)([user_embeddings, item_embeddings])\n",
        "    # Now we need a generic model that wraps up the \"network\", specifying the input and output layers.\n",
        "    tf_mf = tf.keras.Model(inputs = [users, items], outputs = dot)\n",
        "    # Compile the model: Adam optimizer is suggested here over SGD.\n",
        "    # Your code here...\n",
        "    tf_mf.compile(optimizer = tf.keras.optimizers.SGD(learning_rate = lrate), loss = \"MSE\")\n",
        "\n",
        "    # Show the model topology - a plot will be produced in a file 'tf-model.png'.\n",
        "    tf_mf.summary()\n",
        "    tf.keras.utils.plot_model(tf_mf, to_file='tf-model.png', show_shapes=True, dpi=150)\n",
        "\n",
        "    hist = train_model(tf_mf, neg, nepochs)\n",
        "    return tf_mf, hist\n",
        "\n",
        "def train_model(tf_mf, neg, nepochs):\n",
        "    # We inject 'neg' negative samples for every available rating in the training data\n",
        "    nneg = neg * ratings.ntrain\n",
        "    users = np.concatenate((ratings.train_df.u, np.random.randint(ratings.nusers, size=nneg)))\n",
        "    items = np.concatenate((ratings.train_df.i, np.random.randint(ratings.nitems, size=nneg)))\n",
        "    rs = ratings.train_matrix[users, items]\n",
        "    batch_size = ratings.ntrain + nneg # Single batch with all the data at once.\n",
        "\n",
        "    hist = tf_mf.fit([users, items], rs, batch_size = batch_size, epochs = nepochs, callbacks=[TqdmCallback(verbose=0)], verbose = 0) # Produces a prettier progress bar.\n",
        "    return hist\n",
        "\n",
        "# Create the model - this will directly trigger training.\n",
        "tf.random.set_seed(0) # For comparability and debugging (the randomness here is in parameter initialization).\n",
        "start_time = time.time()\n",
        "tf_mf, hist = create_model(k=50, lrate=.01, nepochs=150)\n",
        "\n",
        "# Plot the training error and report the test metric value (P@10).\n",
        "\n",
        "plot(hist.history['loss'])\n",
        "\n",
        "uexplode = np.full((ratings.nitems, ratings.nusers), np.arange(ratings.nusers)).T.flatten()\n",
        "iexplode = np.full((ratings.nusers, ratings.nitems), np.arange(ratings.nitems)).flatten()\n",
        "scores = tf_mf.predict([uexplode, iexplode], batch_size=ratings.nusers*100,\n",
        "                       verbose=1).reshape(ratings.nusers, ratings.nitems)\n",
        "p = precision(scores*(1-ratings.train_mask), ratings.test_matrix, 10)\n",
        "trace(hist.params['epochs'], start_time, hist.history['loss'][-1], p, 'P@10')"
      ]
    },
    {
      "cell_type": "markdown",
      "id": "c2e20f63",
      "metadata": {
        "id": "c2e20f63"
      },
      "source": [
        "Se ha cambiado el optimizador a SGD, de lo que se puede ver que realmente el optimizador Adam del código original es mejor."
      ]
    },
    {
      "cell_type": "markdown",
      "id": "3553a144",
      "metadata": {
        "id": "3553a144"
      },
      "source": [
        "**Cambio de la función de pérdida a BCE**"
      ]
    },
    {
      "cell_type": "code",
      "execution_count": null,
      "id": "58522fb0",
      "metadata": {
        "id": "58522fb0",
        "outputId": "effe6a9e-20ad-4766-b4a4-c72fc0ee8f2b"
      },
      "outputs": [
        {
          "name": "stdout",
          "output_type": "stream",
          "text": [
            "Model: \"model_1\"\n",
            "__________________________________________________________________________________________________\n",
            " Layer (type)                Output Shape                 Param #   Connected to                  \n",
            "==================================================================================================\n",
            " input_3 (InputLayer)        [(None,)]                    0         []                            \n",
            "                                                                                                  \n",
            " input_4 (InputLayer)        [(None,)]                    0         []                            \n",
            "                                                                                                  \n",
            " embedding_2 (Embedding)     (None, 50)                   302000    ['input_3[0][0]']             \n",
            "                                                                                                  \n",
            " embedding_3 (Embedding)     (None, 50)                   185300    ['input_4[0][0]']             \n",
            "                                                                                                  \n",
            " dot_1 (Dot)                 (None, 1)                    0         ['embedding_2[0][0]',         \n",
            "                                                                     'embedding_3[0][0]']         \n",
            "                                                                                                  \n",
            "==================================================================================================\n",
            "Total params: 487300 (1.86 MB)\n",
            "Trainable params: 487300 (1.86 MB)\n",
            "Non-trainable params: 0 (0.00 Byte)\n",
            "__________________________________________________________________________________________________\n"
          ]
        },
        {
          "name": "stderr",
          "output_type": "stream",
          "text": [
            "100%|██████████| 150/150 [02:52<00:00,  1.15s/epoch, loss=0.256]\n"
          ]
        },
        {
          "name": "stdout",
          "output_type": "stream",
          "text": [
            "38/38 [==============================] - 2s 42ms/step\n",
            "Training model --> Epochs: 151  Training error: 0.2560540437698364  Test P@10: 0.09938741721854304 \u001b[94m[0:02:55]\u001b[0m                        "
          ]
        },
        {
          "data": {
            "image/png": "[encoded data removed]",
            "text/plain": [
              "<Figure size 640x480 with 1 Axes>"
            ]
          },
          "metadata": {},
          "output_type": "display_data"
        }
      ],
      "source": [
        "import tensorflow as tf\n",
        "from tqdm.keras import TqdmCallback\n",
        "import time, datetime, IPython\n",
        "\n",
        "# See the file 'tf-model.png' that was generated with a solution to this exercise - when you run\n",
        "# your own implementation, you will get your own plot.\n",
        "def create_model(k=50, lrate=.01, neg=4, nepochs=150):\n",
        "    # 'users' is an input layer of type tf.int64.\n",
        "    users = tf.keras.layers.Input(shape = (), dtype = tf.int64)\n",
        "    user_embeddings = tf.keras.layers.Embedding(ratings.nusers, k, embeddings_initializer = tf.keras.initializers.RandomNormal(stddev = 1/ratings.nusers))(users) # Your code here...\n",
        "    # 'items' is an input layer of type tf.int64.\n",
        "    items = tf.keras.layers.Input(shape = (), dtype = tf.int64)\n",
        "    item_embeddings = tf.keras.layers.Embedding(ratings.nitems, k, embeddings_initializer = tf.keras.initializers.RandomNormal(stddev = 1/ratings.nitems))(items)\n",
        "    # TensorFlow has a built-in dot-product layer.\n",
        "    dot = tf.keras.layers.Dot(axes = 1)([user_embeddings, item_embeddings])\n",
        "    # Now we need a generic model that wraps up the \"network\", specifying the input and output layers.\n",
        "    tf_mf = tf.keras.Model(inputs = [users, items], outputs = dot)\n",
        "    # Compile the model: Adam optimizer is suggested here over SGD.\n",
        "    # Your code here...\n",
        "    tf_mf.compile(optimizer = tf.keras.optimizers.Adam(learning_rate = lrate), loss = \"binary_crossentropy\")\n",
        "\n",
        "    # Show the model topology - a plot will be produced in a file 'tf-model.png'.\n",
        "    tf_mf.summary()\n",
        "    tf.keras.utils.plot_model(tf_mf, to_file='tf-model.png', show_shapes=True, dpi=150)\n",
        "\n",
        "    hist = train_model(tf_mf, neg, nepochs)\n",
        "    return tf_mf, hist\n",
        "\n",
        "def train_model(tf_mf, neg, nepochs):\n",
        "    # We inject 'neg' negative samples for every available rating in the training data\n",
        "    nneg = neg * ratings.ntrain\n",
        "    users = np.concatenate((ratings.train_df.u, np.random.randint(ratings.nusers, size=nneg)))\n",
        "    items = np.concatenate((ratings.train_df.i, np.random.randint(ratings.nitems, size=nneg)))\n",
        "    rs = ratings.train_matrix[users, items]\n",
        "    batch_size = ratings.ntrain + nneg # Single batch with all the data at once.\n",
        "\n",
        "    hist = tf_mf.fit([users, items], rs, batch_size = batch_size, epochs = nepochs, callbacks=[TqdmCallback(verbose=0)], verbose = 0) # Produces a prettier progress bar.\n",
        "    return hist\n",
        "\n",
        "# Create the model - this will directly trigger training.\n",
        "tf.random.set_seed(0) # For comparability and debugging (the randomness here is in parameter initialization).\n",
        "start_time = time.time()\n",
        "tf_mf, hist = create_model(k=50, lrate=.01, nepochs=150)\n",
        "\n",
        "# Plot the training error and report the test metric value (P@10).\n",
        "\n",
        "plot(hist.history['loss'])\n",
        "\n",
        "uexplode = np.full((ratings.nitems, ratings.nusers), np.arange(ratings.nusers)).T.flatten()\n",
        "iexplode = np.full((ratings.nusers, ratings.nitems), np.arange(ratings.nitems)).flatten()\n",
        "scores = tf_mf.predict([uexplode, iexplode], batch_size=ratings.nusers*100,\n",
        "                       verbose=1).reshape(ratings.nusers, ratings.nitems)\n",
        "p = precision(scores*(1-ratings.train_mask), ratings.test_matrix, 10)\n",
        "trace(hist.params['epochs'], start_time, hist.history['loss'][-1], p, 'P@10')"
      ]
    },
    {
      "cell_type": "markdown",
      "id": "472e327d",
      "metadata": {
        "id": "472e327d"
      },
      "source": [
        "Se ha probado a cambiar la función de pérdida a BCE no obteniendo mejores resultados"
      ]
    },
    {
      "cell_type": "markdown",
      "id": "24a82d4a",
      "metadata": {
        "id": "24a82d4a"
      },
      "source": [
        "**Utilizando la función de pérdida BCE con logits**"
      ]
    },
    {
      "cell_type": "code",
      "execution_count": null,
      "id": "af1c634d",
      "metadata": {
        "id": "af1c634d",
        "outputId": "ffa58a20-f2a1-468c-dec1-58ccbd5fc5e0"
      },
      "outputs": [
        {
          "name": "stdout",
          "output_type": "stream",
          "text": [
            "Model: \"model_4\"\n",
            "__________________________________________________________________________________________________\n",
            " Layer (type)                Output Shape                 Param #   Connected to                  \n",
            "==================================================================================================\n",
            " input_9 (InputLayer)        [(None,)]                    0         []                            \n",
            "                                                                                                  \n",
            " input_10 (InputLayer)       [(None,)]                    0         []                            \n",
            "                                                                                                  \n",
            " embedding_8 (Embedding)     (None, 50)                   302000    ['input_9[0][0]']             \n",
            "                                                                                                  \n",
            " embedding_9 (Embedding)     (None, 50)                   185300    ['input_10[0][0]']            \n",
            "                                                                                                  \n",
            " dot_4 (Dot)                 (None, 1)                    0         ['embedding_8[0][0]',         \n",
            "                                                                     'embedding_9[0][0]']         \n",
            "                                                                                                  \n",
            "==================================================================================================\n",
            "Total params: 487300 (1.86 MB)\n",
            "Trainable params: 487300 (1.86 MB)\n",
            "Non-trainable params: 0 (0.00 Byte)\n",
            "__________________________________________________________________________________________________\n"
          ]
        },
        {
          "name": "stderr",
          "output_type": "stream",
          "text": [
            "100%|██████████| 100/100 [01:51<00:00,  1.11s/epoch, loss=0.257]\n"
          ]
        },
        {
          "name": "stdout",
          "output_type": "stream",
          "text": [
            "38/38 [==============================] - 2s 42ms/step\n",
            "Training model --> Epochs: 101  Training error: 0.257344514131546  Test P@10: 0.13422185430463576 \u001b[94m[0:01:54]\u001b[0m                        "
          ]
        },
        {
          "data": {
            "image/png": "[encoded data removed]",
            "text/plain": [
              "<Figure size 640x480 with 1 Axes>"
            ]
          },
          "metadata": {},
          "output_type": "display_data"
        }
      ],
      "source": [
        "import tensorflow as tf\n",
        "from tqdm.keras import TqdmCallback\n",
        "import time, datetime, IPython\n",
        "\n",
        "# See the file 'tf-model.png' that was generated with a solution to this exercise - when you run\n",
        "# your own implementation, you will get your own plot.\n",
        "def create_model(k=50, lrate=.01, neg=4, nepochs=150):\n",
        "    # 'users' is an input layer of type tf.int64.\n",
        "    users = tf.keras.layers.Input(shape = (), dtype = tf.int64)\n",
        "    user_embeddings = tf.keras.layers.Embedding(ratings.nusers, k, embeddings_initializer = tf.keras.initializers.RandomNormal(stddev = 1/ratings.nusers))(users) # Your code here...\n",
        "    # 'items' is an input layer of type tf.int64.\n",
        "    items = tf.keras.layers.Input(shape = (), dtype = tf.int64)\n",
        "    item_embeddings = tf.keras.layers.Embedding(ratings.nitems, k, embeddings_initializer = tf.keras.initializers.RandomNormal(stddev = 1/ratings.nitems))(items)\n",
        "    # TensorFlow has a built-in dot-product layer.\n",
        "    dot = tf.keras.layers.Dot(axes = 1)([user_embeddings, item_embeddings])\n",
        "    # Now we need a generic model that wraps up the \"network\", specifying the input and output layers.\n",
        "    tf_mf = tf.keras.Model(inputs = [users, items], outputs = dot)\n",
        "    # Compile the model: Adam optimizer is suggested here over SGD.\n",
        "    # Your code here...\n",
        "    tf_mf.compile(optimizer = tf.keras.optimizers.Adam(learning_rate = lrate), loss = tf.keras.losses.BinaryCrossentropy(from_logits= True))\n",
        "\n",
        "    # Show the model topology - a plot will be produced in a file 'tf-model.png'.\n",
        "    tf_mf.summary()\n",
        "    tf.keras.utils.plot_model(tf_mf, to_file='tf-model.png', show_shapes=True, dpi=150)\n",
        "\n",
        "    hist = train_model(tf_mf, neg, nepochs)\n",
        "    return tf_mf, hist\n",
        "\n",
        "def train_model(tf_mf, neg, nepochs):\n",
        "    # We inject 'neg' negative samples for every available rating in the training data\n",
        "    nneg = neg * ratings.ntrain\n",
        "    users = np.concatenate((ratings.train_df.u, np.random.randint(ratings.nusers, size=nneg)))\n",
        "    items = np.concatenate((ratings.train_df.i, np.random.randint(ratings.nitems, size=nneg)))\n",
        "    rs = ratings.train_matrix[users, items]\n",
        "    batch_size = ratings.ntrain + nneg # Single batch with all the data at once.\n",
        "\n",
        "    hist = tf_mf.fit([users, items], rs, batch_size = batch_size, epochs = nepochs, callbacks=[TqdmCallback(verbose=0)], verbose = 0) # Produces a prettier progress bar.\n",
        "    return hist\n",
        "\n",
        "# Create the model - this will directly trigger training.\n",
        "tf.random.set_seed(0) # For comparability and debugging (the randomness here is in parameter initialization).\n",
        "start_time = time.time()\n",
        "tf_mf, hist = create_model(k=50, lrate=.01, nepochs=100)\n",
        "\n",
        "# Plot the training error and report the test metric value (P@10).\n",
        "\n",
        "plot(hist.history['loss'])\n",
        "\n",
        "uexplode = np.full((ratings.nitems, ratings.nusers), np.arange(ratings.nusers)).T.flatten()\n",
        "iexplode = np.full((ratings.nusers, ratings.nitems), np.arange(ratings.nitems)).flatten()\n",
        "scores = tf_mf.predict([uexplode, iexplode], batch_size=ratings.nusers*100,\n",
        "                       verbose=1).reshape(ratings.nusers, ratings.nitems)\n",
        "p = precision(scores*(1-ratings.train_mask), ratings.test_matrix, 10)\n",
        "trace(hist.params['epochs'], start_time, hist.history['loss'][-1], p, 'P@10')"
      ]
    },
    {
      "cell_type": "markdown",
      "id": "119d3449",
      "metadata": {
        "id": "119d3449"
      },
      "source": [
        "En cambio se puede ver que BCE con logits mejora ligeramente los resultados obtenidos con BCE, pero sigue sin llegar al nivel de precisión del MSE"
      ]
    },
    {
      "cell_type": "markdown",
      "id": "b1e785c2",
      "metadata": {
        "id": "b1e785c2"
      },
      "source": [
        "**Añadiendo capas densas y dropout**"
      ]
    },
    {
      "cell_type": "code",
      "execution_count": null,
      "id": "3363b90a-d1d8-4169-80be-57d401059866",
      "metadata": {
        "id": "3363b90a-d1d8-4169-80be-57d401059866",
        "outputId": "60085abd-322b-48e0-ff98-7707550e0c47"
      },
      "outputs": [
        {
          "name": "stdout",
          "output_type": "stream",
          "text": [
            "Model: \"model_12\"\n",
            "__________________________________________________________________________________________________\n",
            " Layer (type)                Output Shape                 Param #   Connected to                  \n",
            "==================================================================================================\n",
            " input_25 (InputLayer)       [(None,)]                    0         []                            \n",
            "                                                                                                  \n",
            " input_26 (InputLayer)       [(None,)]                    0         []                            \n",
            "                                                                                                  \n",
            " embedding_24 (Embedding)    (None, 50)                   302000    ['input_25[0][0]']            \n",
            "                                                                                                  \n",
            " embedding_25 (Embedding)    (None, 50)                   185300    ['input_26[0][0]']            \n",
            "                                                                                                  \n",
            " dense_20 (Dense)            (None, 45)                   2295      ['embedding_24[0][0]']        \n",
            "                                                                                                  \n",
            " dense_21 (Dense)            (None, 45)                   2295      ['embedding_25[0][0]']        \n",
            "                                                                                                  \n",
            " dot_12 (Dot)                (None, 1)                    0         ['dense_20[0][0]',            \n",
            "                                                                     'dense_21[0][0]']            \n",
            "                                                                                                  \n",
            "==================================================================================================\n",
            "Total params: 491890 (1.88 MB)\n",
            "Trainable params: 491890 (1.88 MB)\n",
            "Non-trainable params: 0 (0.00 Byte)\n",
            "__________________________________________________________________________________________________\n"
          ]
        },
        {
          "name": "stderr",
          "output_type": "stream",
          "text": [
            "100%|██████████| 150/150 [03:36<00:00,  1.45s/epoch, loss=0.059] \n"
          ]
        },
        {
          "name": "stdout",
          "output_type": "stream",
          "text": [
            "38/38 [==============================] - 3s 66ms/step\n",
            "Training model --> Epochs: 151  Training error: 0.05897965654730797  Test P@10: 0.21937086092715233 \u001b[94m[0:03:41]\u001b[0m                        "
          ]
        },
        {
          "data": {
            "image/png": "[encoded data removed]",
            "text/plain": [
              "<Figure size 640x480 with 1 Axes>"
            ]
          },
          "metadata": {},
          "output_type": "display_data"
        }
      ],
      "source": [
        "import tensorflow as tf\n",
        "from tqdm.keras import TqdmCallback\n",
        "import time, datetime, IPython\n",
        "\n",
        "# See the file 'tf-model.png' that was generated with a solution to this exercise - when you run\n",
        "# your own implementation, you will get your own plot.\n",
        "def create_model(k=50, lrate=.01, neg=4, nepochs=150):\n",
        "    # 'users' is an input layer of type tf.int64.\n",
        "    users = tf.keras.layers.Input(shape = (), dtype = tf.int64)\n",
        "    user_embeddings = tf.keras.layers.Embedding(ratings.nusers, k, embeddings_initializer = tf.keras.initializers.RandomNormal(stddev = 1/ratings.nusers))(users) # Your code here...\n",
        "    #user_drop = tf.keras.layers.Dropout(0.2)(user_embeddings)\n",
        "    #users_dense = tf.keras.layers.Dense(30, activation = \"relu\", kernel_regularizer=\"l2\")(user_drop)\n",
        "    users_dense = tf.keras.layers.Dense(int(k*0.9), activation = \"linear\")(user_embeddings)\n",
        "\n",
        "\n",
        "    # 'items' is an input layer of type tf.int64.\n",
        "    items = tf.keras.layers.Input(shape = (), dtype = tf.int64)\n",
        "    item_embeddings = tf.keras.layers.Embedding(ratings.nitems, k, embeddings_initializer = tf.keras.initializers.RandomNormal(stddev = 1/ratings.nitems))(items)\n",
        "    #item_drop = tf.keras.layers.Dropout(0.2)(item_embeddings)\n",
        "    #items_dense = tf.keras.layers.Dense(30, activation = \"relu\", kernel_regularizer=\"l2\")(item_drop)\n",
        "    items_dense = tf.keras.layers.Dense(int(k*0.9), activation = \"linear\")(item_embeddings)\n",
        "    # TensorFlow has a built-in dot-product layer.\n",
        "    dot = tf.keras.layers.Dot(axes = 1)([users_dense, items_dense])\n",
        "    # Now we need a generic model that wraps up the \"network\", specifying the input and output layers.\n",
        "    tf_mf = tf.keras.Model(inputs = [users, items], outputs = dot)\n",
        "    # Compile the model: Adam optimizer is suggested here over SGD.\n",
        "    # Your code here...\n",
        "    tf_mf.compile(optimizer = tf.keras.optimizers.Adam(learning_rate = lrate), loss = \"MSE\")\n",
        "\n",
        "    # Show the model topology - a plot will be produced in a file 'tf-model.png'.\n",
        "    tf_mf.summary()\n",
        "    tf.keras.utils.plot_model(tf_mf, to_file='tf-model.png', show_shapes=True, dpi=150)\n",
        "\n",
        "    hist = train_model(tf_mf, neg, nepochs)\n",
        "    return tf_mf, hist\n",
        "\n",
        "def train_model(tf_mf, neg, nepochs):\n",
        "    # We inject 'neg' negative samples for every available rating in the training data\n",
        "    nneg = neg * ratings.ntrain\n",
        "    users = np.concatenate((ratings.train_df.u, np.random.randint(ratings.nusers, size=nneg)))\n",
        "    items = np.concatenate((ratings.train_df.i, np.random.randint(ratings.nitems, size=nneg)))\n",
        "    rs = ratings.train_matrix[users, items]\n",
        "    batch_size = ratings.ntrain + nneg # Single batch with all the data at once.\n",
        "\n",
        "    hist = tf_mf.fit([users, items], rs, batch_size = batch_size, epochs = nepochs, callbacks=[TqdmCallback(verbose=0)], verbose = 0) # Produces a prettier progress bar.\n",
        "    return hist\n",
        "\n",
        "# Create the model - this will directly trigger training.\n",
        "tf.random.set_seed(0) # For comparability and debugging (the randomness here is in parameter initialization).\n",
        "start_time = time.time()\n",
        "tf_mf, hist = create_model(k=50, lrate=.01, nepochs=150)\n",
        "\n",
        "# Plot the training error and report the test metric value (P@10).\n",
        "\n",
        "plot(hist.history['loss'])\n",
        "\n",
        "uexplode = np.full((ratings.nitems, ratings.nusers), np.arange(ratings.nusers)).T.flatten()\n",
        "iexplode = np.full((ratings.nusers, ratings.nitems), np.arange(ratings.nitems)).flatten()\n",
        "scores = tf_mf.predict([uexplode, iexplode], batch_size=ratings.nusers*100,\n",
        "                       verbose=1).reshape(ratings.nusers, ratings.nitems)\n",
        "p = precision(scores*(1-ratings.train_mask), ratings.test_matrix, 10)\n",
        "trace(hist.params['epochs'], start_time, hist.history['loss'][-1], p, 'P@10')"
      ]
    },
    {
      "cell_type": "markdown",
      "id": "232b7646",
      "metadata": {
        "id": "232b7646"
      },
      "source": [
        "Añadiendo una capa densa antes del dot product en cada una de las torres se pueden obtener resultados bastante parecidos en precisión respecto al primer intento, pero, lo interesante de este es que el error de entrenamiento baja de forma más rápida, por lo que se podría decir que es un mejor modelo, ya que con un menor número de épocas podría llegar al mismo MSE."
      ]
    },
    {
      "cell_type": "markdown",
      "id": "d06b2456",
      "metadata": {
        "id": "d06b2456"
      },
      "source": [
        "**Cambiando hiperparámetros como el learning rate**"
      ]
    },
    {
      "cell_type": "code",
      "execution_count": null,
      "id": "14049d28",
      "metadata": {
        "id": "14049d28",
        "outputId": "a89c68ec-74f6-43f2-bf9b-34e4f975ee2c"
      },
      "outputs": [
        {
          "name": "stdout",
          "output_type": "stream",
          "text": [
            "Model: \"model_6\"\n",
            "__________________________________________________________________________________________________\n",
            " Layer (type)                Output Shape                 Param #   Connected to                  \n",
            "==================================================================================================\n",
            " input_13 (InputLayer)       [(None,)]                    0         []                            \n",
            "                                                                                                  \n",
            " input_14 (InputLayer)       [(None,)]                    0         []                            \n",
            "                                                                                                  \n",
            " embedding_12 (Embedding)    (None, 50)                   302000    ['input_13[0][0]']            \n",
            "                                                                                                  \n",
            " embedding_13 (Embedding)    (None, 50)                   185300    ['input_14[0][0]']            \n",
            "                                                                                                  \n",
            " dot_6 (Dot)                 (None, 1)                    0         ['embedding_12[0][0]',        \n",
            "                                                                     'embedding_13[0][0]']        \n",
            "                                                                                                  \n",
            "==================================================================================================\n",
            "Total params: 487300 (1.86 MB)\n",
            "Trainable params: 487300 (1.86 MB)\n",
            "Non-trainable params: 0 (0.00 Byte)\n",
            "__________________________________________________________________________________________________\n"
          ]
        },
        {
          "name": "stderr",
          "output_type": "stream",
          "text": [
            "100%|██████████| 150/150 [02:37<00:00,  1.05s/epoch, loss=0.0654]\n"
          ]
        },
        {
          "name": "stdout",
          "output_type": "stream",
          "text": [
            "38/38 [==============================] - 2s 39ms/step\n",
            "Training model --> Epochs: 151  Training error: 0.06536974757909775  Test P@10: 0.2129304635761589 \u001b[94m[0:02:40]\u001b[0m                        "
          ]
        },
        {
          "data": {
            "image/png": "[encoded data removed]",
            "text/plain": [
              "<Figure size 640x480 with 1 Axes>"
            ]
          },
          "metadata": {},
          "output_type": "display_data"
        }
      ],
      "source": [
        "import tensorflow as tf\n",
        "from tqdm.keras import TqdmCallback\n",
        "import time, datetime, IPython\n",
        "\n",
        "# See the file 'tf-model.png' that was generated with a solution to this exercise - when you run\n",
        "# your own implementation, you will get your own plot.\n",
        "def create_model(k=50, lrate=.01, neg=4, nepochs=150):\n",
        "    # 'users' is an input layer of type tf.int64.\n",
        "    users = tf.keras.layers.Input(shape = (), dtype = tf.int64)\n",
        "    user_embeddings = tf.keras.layers.Embedding(ratings.nusers, k, embeddings_initializer = tf.keras.initializers.RandomNormal(stddev = 1/ratings.nusers))(users) # Your code here...\n",
        "    # 'items' is an input layer of type tf.int64.\n",
        "    items = tf.keras.layers.Input(shape = (), dtype = tf.int64)\n",
        "    item_embeddings = tf.keras.layers.Embedding(ratings.nitems, k, embeddings_initializer = tf.keras.initializers.RandomNormal(stddev = 1/ratings.nitems))(items)\n",
        "    # TensorFlow has a built-in dot-product layer.\n",
        "    dot = tf.keras.layers.Dot(axes = 1)([user_embeddings, item_embeddings])\n",
        "    # Now we need a generic model that wraps up the \"network\", specifying the input and output layers.\n",
        "    tf_mf = tf.keras.Model(inputs = [users, items], outputs = dot)\n",
        "    # Compile the model: Adam optimizer is suggested here over SGD.\n",
        "    # Your code here...\n",
        "    tf_mf.compile(optimizer = tf.keras.optimizers.Adam(learning_rate = lrate), loss = \"MSE\")\n",
        "\n",
        "    # Show the model topology - a plot will be produced in a file 'tf-model.png'.\n",
        "    tf_mf.summary()\n",
        "    tf.keras.utils.plot_model(tf_mf, to_file='tf-model.png', show_shapes=True, dpi=150)\n",
        "\n",
        "    hist = train_model(tf_mf, neg, nepochs)\n",
        "    return tf_mf, hist\n",
        "\n",
        "def train_model(tf_mf, neg, nepochs):\n",
        "    # We inject 'neg' negative samples for every available rating in the training data\n",
        "    nneg = neg * ratings.ntrain\n",
        "    users = np.concatenate((ratings.train_df.u, np.random.randint(ratings.nusers, size=nneg)))\n",
        "    items = np.concatenate((ratings.train_df.i, np.random.randint(ratings.nitems, size=nneg)))\n",
        "    rs = ratings.train_matrix[users, items]\n",
        "    batch_size = ratings.ntrain + nneg # Single batch with all the data at once.\n",
        "\n",
        "    hist = tf_mf.fit([users, items], rs, batch_size = batch_size, epochs = nepochs, callbacks=[TqdmCallback(verbose=0)], verbose = 0) # Produces a prettier progress bar.\n",
        "    return hist\n",
        "\n",
        "# Create the model - this will directly trigger training.\n",
        "tf.random.set_seed(0) # For comparability and debugging (the randomness here is in parameter initialization).\n",
        "start_time = time.time()\n",
        "tf_mf, hist = create_model(k=50, lrate=.005, nepochs=150)\n",
        "\n",
        "# Plot the training error and report the test metric value (P@10).\n",
        "\n",
        "plot(hist.history['loss'])\n",
        "\n",
        "uexplode = np.full((ratings.nitems, ratings.nusers), np.arange(ratings.nusers)).T.flatten()\n",
        "iexplode = np.full((ratings.nusers, ratings.nitems), np.arange(ratings.nitems)).flatten()\n",
        "scores = tf_mf.predict([uexplode, iexplode], batch_size=ratings.nusers*100,\n",
        "                       verbose=1).reshape(ratings.nusers, ratings.nitems)\n",
        "p = precision(scores*(1-ratings.train_mask), ratings.test_matrix, 10)\n",
        "trace(hist.params['epochs'], start_time, hist.history['loss'][-1], p, 'P@10')"
      ]
    },
    {
      "cell_type": "markdown",
      "id": "ea45d013",
      "metadata": {
        "id": "ea45d013"
      },
      "source": [
        "Cambiando el learning rate a uno menor se ve que se obtienen resultados parecidos en el mismo número de épocas, por lo tanto se va a probar si añadiendo capas densas antes ya que aceleraba ligeramente la bajada del error, a ver si con ello se podría conseguir mejores resultados, se ha aumentado ligeramente el número de épocas ya que para un learning rate menor se necesita más tiempo de entrenamiento"
      ]
    },
    {
      "cell_type": "code",
      "execution_count": null,
      "id": "14b50a4a",
      "metadata": {
        "id": "14b50a4a",
        "outputId": "f1a9e565-f5ff-4c55-b206-18b9316354ef"
      },
      "outputs": [
        {
          "name": "stdout",
          "output_type": "stream",
          "text": [
            "Model: \"model_10\"\n",
            "__________________________________________________________________________________________________\n",
            " Layer (type)                Output Shape                 Param #   Connected to                  \n",
            "==================================================================================================\n",
            " input_21 (InputLayer)       [(None,)]                    0         []                            \n",
            "                                                                                                  \n",
            " input_22 (InputLayer)       [(None,)]                    0         []                            \n",
            "                                                                                                  \n",
            " embedding_20 (Embedding)    (None, 50)                   302000    ['input_21[0][0]']            \n",
            "                                                                                                  \n",
            " embedding_21 (Embedding)    (None, 50)                   185300    ['input_22[0][0]']            \n",
            "                                                                                                  \n",
            " dense_16 (Dense)            (None, 45)                   2295      ['embedding_20[0][0]']        \n",
            "                                                                                                  \n",
            " dense_17 (Dense)            (None, 45)                   2295      ['embedding_21[0][0]']        \n",
            "                                                                                                  \n",
            " dot_10 (Dot)                (None, 1)                    0         ['dense_16[0][0]',            \n",
            "                                                                     'dense_17[0][0]']            \n",
            "                                                                                                  \n",
            "==================================================================================================\n",
            "Total params: 491890 (1.88 MB)\n",
            "Trainable params: 491890 (1.88 MB)\n",
            "Non-trainable params: 0 (0.00 Byte)\n",
            "__________________________________________________________________________________________________\n"
          ]
        },
        {
          "name": "stderr",
          "output_type": "stream",
          "text": [
            "100%|██████████| 200/200 [05:28<00:00,  1.64s/epoch, loss=0.0613]\n"
          ]
        },
        {
          "name": "stdout",
          "output_type": "stream",
          "text": [
            "38/38 [==============================] - 3s 71ms/step\n",
            "Training model --> Epochs: 201  Training error: 0.06133171543478966  Test P@10: 0.22327814569536422 \u001b[94m[0:05:33]\u001b[0m                        "
          ]
        },
        {
          "data": {
            "image/png": "[encoded data removed]",
            "text/plain": [
              "<Figure size 640x480 with 1 Axes>"
            ]
          },
          "metadata": {},
          "output_type": "display_data"
        }
      ],
      "source": [
        "import tensorflow as tf\n",
        "from tqdm.keras import TqdmCallback\n",
        "import time, datetime, IPython\n",
        "\n",
        "# See the file 'tf-model.png' that was generated with a solution to this exercise - when you run\n",
        "# your own implementation, you will get your own plot.\n",
        "def create_model(k=50, lrate=.01, neg=4, nepochs=150):\n",
        "    # 'users' is an input layer of type tf.int64.\n",
        "    users = tf.keras.layers.Input(shape = (), dtype = tf.int64)\n",
        "    user_embeddings = tf.keras.layers.Embedding(ratings.nusers, k, embeddings_initializer = tf.keras.initializers.RandomNormal(stddev = 1/ratings.nusers))(users) # Your code here...\n",
        "    #user_drop = tf.keras.layers.Dropout(0.2)(user_embeddings)\n",
        "    #users_dense = tf.keras.layers.Dense(30, activation = \"relu\", kernel_regularizer=\"l2\")(user_drop)\n",
        "    users_dense = tf.keras.layers.Dense(int(k*0.9), activation = \"linear\")(user_embeddings)\n",
        "\n",
        "\n",
        "    # 'items' is an input layer of type tf.int64.\n",
        "    items = tf.keras.layers.Input(shape = (), dtype = tf.int64)\n",
        "    item_embeddings = tf.keras.layers.Embedding(ratings.nitems, k, embeddings_initializer = tf.keras.initializers.RandomNormal(stddev = 1/ratings.nitems))(items)\n",
        "    #item_drop = tf.keras.layers.Dropout(0.2)(item_embeddings)\n",
        "    #items_dense = tf.keras.layers.Dense(30, activation = \"relu\", kernel_regularizer=\"l2\")(item_drop)\n",
        "    items_dense = tf.keras.layers.Dense(int(k*0.9), activation = \"linear\")(item_embeddings)\n",
        "    # TensorFlow has a built-in dot-product layer.\n",
        "    dot = tf.keras.layers.Dot(axes = 1)([users_dense, items_dense])\n",
        "    # Now we need a generic model that wraps up the \"network\", specifying the input and output layers.\n",
        "    tf_mf = tf.keras.Model(inputs = [users, items], outputs = dot)\n",
        "    # Compile the model: Adam optimizer is suggested here over SGD.\n",
        "    # Your code here...\n",
        "    tf_mf.compile(optimizer = tf.keras.optimizers.Adam(learning_rate = lrate), loss = \"MSE\")\n",
        "\n",
        "    # Show the model topology - a plot will be produced in a file 'tf-model.png'.\n",
        "    tf_mf.summary()\n",
        "    tf.keras.utils.plot_model(tf_mf, to_file='tf-model.png', show_shapes=True, dpi=150)\n",
        "\n",
        "    hist = train_model(tf_mf, neg, nepochs)\n",
        "    return tf_mf, hist\n",
        "\n",
        "def train_model(tf_mf, neg, nepochs):\n",
        "    # We inject 'neg' negative samples for every available rating in the training data\n",
        "    nneg = neg * ratings.ntrain\n",
        "    users = np.concatenate((ratings.train_df.u, np.random.randint(ratings.nusers, size=nneg)))\n",
        "    items = np.concatenate((ratings.train_df.i, np.random.randint(ratings.nitems, size=nneg)))\n",
        "    rs = ratings.train_matrix[users, items]\n",
        "    batch_size = ratings.ntrain + nneg # Single batch with all the data at once.\n",
        "\n",
        "    hist = tf_mf.fit([users, items], rs, batch_size = batch_size, epochs = nepochs, callbacks=[TqdmCallback(verbose=0)], verbose = 0) # Produces a prettier progress bar.\n",
        "    return hist\n",
        "\n",
        "# Create the model - this will directly trigger training.\n",
        "tf.random.set_seed(0) # For comparability and debugging (the randomness here is in parameter initialization).\n",
        "start_time = time.time()\n",
        "tf_mf, hist = create_model(k=50, lrate=.005, nepochs=200)\n",
        "\n",
        "# Plot the training error and report the test metric value (P@10).\n",
        "\n",
        "plot(hist.history['loss'])\n",
        "\n",
        "uexplode = np.full((ratings.nitems, ratings.nusers), np.arange(ratings.nusers)).T.flatten()\n",
        "iexplode = np.full((ratings.nusers, ratings.nitems), np.arange(ratings.nitems)).flatten()\n",
        "scores = tf_mf.predict([uexplode, iexplode], batch_size=ratings.nusers*100,\n",
        "                       verbose=1).reshape(ratings.nusers, ratings.nitems)\n",
        "p = precision(scores*(1-ratings.train_mask), ratings.test_matrix, 10)\n",
        "trace(hist.params['epochs'], start_time, hist.history['loss'][-1], p, 'P@10')"
      ]
    },
    {
      "cell_type": "markdown",
      "id": "4114c7aa",
      "metadata": {
        "id": "4114c7aa"
      },
      "source": [
        "Se han hecho pruebas también añadiendo dropout y regularización en las capas densas, de lo que no se han conseguido mejores resultados, por lo tanto no se han incluido en el informe"
      ]
    }
  ],
  "metadata": {
    "colab": {
      "provenance": []
    },
    "kernelspec": {
      "display_name": "Python 3 (ipykernel)",
      "language": "python",
      "name": "python3"
    },
    "language_info": {
      "codemirror_mode": {
        "name": "ipython",
        "version": 3
      },
      "file_extension": ".py",
      "mimetype": "text/x-python",
      "name": "python",
      "nbconvert_exporter": "python",
      "pygments_lexer": "ipython3",
      "version": "3.11.5"
    },
    "widgets": {
      "application/vnd.jupyter.widget-state+json": {
        "001730c83593418ab915aa69ed13376a": {
          "model_module": "@jupyter-widgets/base",
          "model_module_version": "1.2.0",
          "model_name": "LayoutModel",
          "state": {
            "_model_module": "@jupyter-widgets/base",
            "_model_module_version": "1.2.0",
            "_model_name": "LayoutModel",
            "_view_count": null,
            "_view_module": "@jupyter-widgets/base",
            "_view_module_version": "1.2.0",
            "_view_name": "LayoutView",
            "align_content": null,
            "align_items": null,
            "align_self": null,
            "border": null,
            "bottom": null,
            "display": null,
            "flex": null,
            "flex_flow": null,
            "grid_area": null,
            "grid_auto_columns": null,
            "grid_auto_flow": null,
            "grid_auto_rows": null,
            "grid_column": null,
            "grid_gap": null,
            "grid_row": null,
            "grid_template_areas": null,
            "grid_template_columns": null,
            "grid_template_rows": null,
            "height": null,
            "justify_content": null,
            "justify_items": null,
            "left": null,
            "margin": null,
            "max_height": null,
            "max_width": null,
            "min_height": null,
            "min_width": null,
            "object_fit": null,
            "object_position": null,
            "order": null,
            "overflow": null,
            "overflow_x": null,
            "overflow_y": null,
            "padding": null,
            "right": null,
            "top": null,
            "visibility": null,
            "width": null
          }
        },
        "30be9e0e957a46139409dafc26350e00": {
          "model_module": "@jupyter-widgets/base",
          "model_module_version": "1.2.0",
          "model_name": "LayoutModel",
          "state": {
            "_model_module": "@jupyter-widgets/base",
            "_model_module_version": "1.2.0",
            "_model_name": "LayoutModel",
            "_view_count": null,
            "_view_module": "@jupyter-widgets/base",
            "_view_module_version": "1.2.0",
            "_view_name": "LayoutView",
            "align_content": null,
            "align_items": null,
            "align_self": null,
            "border": null,
            "bottom": null,
            "display": null,
            "flex": null,
            "flex_flow": null,
            "grid_area": null,
            "grid_auto_columns": null,
            "grid_auto_flow": null,
            "grid_auto_rows": null,
            "grid_column": null,
            "grid_gap": null,
            "grid_row": null,
            "grid_template_areas": null,
            "grid_template_columns": null,
            "grid_template_rows": null,
            "height": null,
            "justify_content": null,
            "justify_items": null,
            "left": null,
            "margin": null,
            "max_height": null,
            "max_width": null,
            "min_height": null,
            "min_width": null,
            "object_fit": null,
            "object_position": null,
            "order": null,
            "overflow": null,
            "overflow_x": null,
            "overflow_y": null,
            "padding": null,
            "right": null,
            "top": null,
            "visibility": null,
            "width": null
          }
        },
        "354bf8384e144ff59424ca81958cae4e": {
          "model_module": "@jupyter-widgets/base",
          "model_module_version": "1.2.0",
          "model_name": "LayoutModel",
          "state": {
            "_model_module": "@jupyter-widgets/base",
            "_model_module_version": "1.2.0",
            "_model_name": "LayoutModel",
            "_view_count": null,
            "_view_module": "@jupyter-widgets/base",
            "_view_module_version": "1.2.0",
            "_view_name": "LayoutView",
            "align_content": null,
            "align_items": null,
            "align_self": null,
            "border": null,
            "bottom": null,
            "display": null,
            "flex": null,
            "flex_flow": null,
            "grid_area": null,
            "grid_auto_columns": null,
            "grid_auto_flow": null,
            "grid_auto_rows": null,
            "grid_column": null,
            "grid_gap": null,
            "grid_row": null,
            "grid_template_areas": null,
            "grid_template_columns": null,
            "grid_template_rows": null,
            "height": null,
            "justify_content": null,
            "justify_items": null,
            "left": null,
            "margin": null,
            "max_height": null,
            "max_width": null,
            "min_height": null,
            "min_width": null,
            "object_fit": null,
            "object_position": null,
            "order": null,
            "overflow": null,
            "overflow_x": null,
            "overflow_y": null,
            "padding": null,
            "right": null,
            "top": null,
            "visibility": null,
            "width": null
          }
        },
        "354d35b80b424087abaa13ebad4d75cf": {
          "model_module": "@jupyter-widgets/controls",
          "model_module_version": "1.5.0",
          "model_name": "DescriptionStyleModel",
          "state": {
            "_model_module": "@jupyter-widgets/controls",
            "_model_module_version": "1.5.0",
            "_model_name": "DescriptionStyleModel",
            "_view_count": null,
            "_view_module": "@jupyter-widgets/base",
            "_view_module_version": "1.2.0",
            "_view_name": "StyleView",
            "description_width": ""
          }
        },
        "4c1374fa2d8e410f838bca4d219d56fb": {
          "model_module": "@jupyter-widgets/base",
          "model_module_version": "1.2.0",
          "model_name": "LayoutModel",
          "state": {
            "_model_module": "@jupyter-widgets/base",
            "_model_module_version": "1.2.0",
            "_model_name": "LayoutModel",
            "_view_count": null,
            "_view_module": "@jupyter-widgets/base",
            "_view_module_version": "1.2.0",
            "_view_name": "LayoutView",
            "align_content": null,
            "align_items": null,
            "align_self": null,
            "border": null,
            "bottom": null,
            "display": null,
            "flex": null,
            "flex_flow": null,
            "grid_area": null,
            "grid_auto_columns": null,
            "grid_auto_flow": null,
            "grid_auto_rows": null,
            "grid_column": null,
            "grid_gap": null,
            "grid_row": null,
            "grid_template_areas": null,
            "grid_template_columns": null,
            "grid_template_rows": null,
            "height": null,
            "justify_content": null,
            "justify_items": null,
            "left": null,
            "margin": null,
            "max_height": null,
            "max_width": null,
            "min_height": null,
            "min_width": null,
            "object_fit": null,
            "object_position": null,
            "order": null,
            "overflow": null,
            "overflow_x": null,
            "overflow_y": null,
            "padding": null,
            "right": null,
            "top": null,
            "visibility": null,
            "width": null
          }
        },
        "525d58926dd249d8ade87bbadcf582c4": {
          "model_module": "@jupyter-widgets/controls",
          "model_module_version": "1.5.0",
          "model_name": "HTMLModel",
          "state": {
            "_dom_classes": [],
            "_model_module": "@jupyter-widgets/controls",
            "_model_module_version": "1.5.0",
            "_model_name": "HTMLModel",
            "_view_count": null,
            "_view_module": "@jupyter-widgets/controls",
            "_view_module_version": "1.5.0",
            "_view_name": "HTMLView",
            "description": "",
            "description_tooltip": null,
            "layout": "IPY_MODEL_354bf8384e144ff59424ca81958cae4e",
            "placeholder": "​",
            "style": "IPY_MODEL_85d5e7cd81fe4e84aab02150083841f6",
            "value": "100%"
          }
        },
        "6d89a071bddb42d8b770814300653077": {
          "model_module": "@jupyter-widgets/controls",
          "model_module_version": "1.5.0",
          "model_name": "HBoxModel",
          "state": {
            "_dom_classes": [],
            "_model_module": "@jupyter-widgets/controls",
            "_model_module_version": "1.5.0",
            "_model_name": "HBoxModel",
            "_view_count": null,
            "_view_module": "@jupyter-widgets/controls",
            "_view_module_version": "1.5.0",
            "_view_name": "HBoxView",
            "box_style": "",
            "children": [
              "IPY_MODEL_525d58926dd249d8ade87bbadcf582c4",
              "IPY_MODEL_976ff8fb3c064fedb7befc3d5964f177",
              "IPY_MODEL_aa03c735004a47f89963a00d56e16324"
            ],
            "layout": "IPY_MODEL_30be9e0e957a46139409dafc26350e00"
          }
        },
        "82cdd8240b9b4983953a8e42bd4a2411": {
          "model_module": "@jupyter-widgets/controls",
          "model_module_version": "1.5.0",
          "model_name": "ProgressStyleModel",
          "state": {
            "_model_module": "@jupyter-widgets/controls",
            "_model_module_version": "1.5.0",
            "_model_name": "ProgressStyleModel",
            "_view_count": null,
            "_view_module": "@jupyter-widgets/base",
            "_view_module_version": "1.2.0",
            "_view_name": "StyleView",
            "bar_color": null,
            "description_width": ""
          }
        },
        "85d5e7cd81fe4e84aab02150083841f6": {
          "model_module": "@jupyter-widgets/controls",
          "model_module_version": "1.5.0",
          "model_name": "DescriptionStyleModel",
          "state": {
            "_model_module": "@jupyter-widgets/controls",
            "_model_module_version": "1.5.0",
            "_model_name": "DescriptionStyleModel",
            "_view_count": null,
            "_view_module": "@jupyter-widgets/base",
            "_view_module_version": "1.2.0",
            "_view_name": "StyleView",
            "description_width": ""
          }
        },
        "976ff8fb3c064fedb7befc3d5964f177": {
          "model_module": "@jupyter-widgets/controls",
          "model_module_version": "1.5.0",
          "model_name": "FloatProgressModel",
          "state": {
            "_dom_classes": [],
            "_model_module": "@jupyter-widgets/controls",
            "_model_module_version": "1.5.0",
            "_model_name": "FloatProgressModel",
            "_view_count": null,
            "_view_module": "@jupyter-widgets/controls",
            "_view_module_version": "1.5.0",
            "_view_name": "ProgressView",
            "bar_style": "success",
            "description": "",
            "description_tooltip": null,
            "layout": "IPY_MODEL_001730c83593418ab915aa69ed13376a",
            "max": 100,
            "min": 0,
            "orientation": "horizontal",
            "style": "IPY_MODEL_82cdd8240b9b4983953a8e42bd4a2411",
            "value": 100
          }
        },
        "aa03c735004a47f89963a00d56e16324": {
          "model_module": "@jupyter-widgets/controls",
          "model_module_version": "1.5.0",
          "model_name": "HTMLModel",
          "state": {
            "_dom_classes": [],
            "_model_module": "@jupyter-widgets/controls",
            "_model_module_version": "1.5.0",
            "_model_name": "HTMLModel",
            "_view_count": null,
            "_view_module": "@jupyter-widgets/controls",
            "_view_module_version": "1.5.0",
            "_view_name": "HTMLView",
            "description": "",
            "description_tooltip": null,
            "layout": "IPY_MODEL_4c1374fa2d8e410f838bca4d219d56fb",
            "placeholder": "​",
            "style": "IPY_MODEL_354d35b80b424087abaa13ebad4d75cf",
            "value": " 100/100 [10:40&lt;00:00,  6.03s/epoch, loss=0.0664]"
          }
        }
      }
    }
  },
  "nbformat": 4,
  "nbformat_minor": 5
}
